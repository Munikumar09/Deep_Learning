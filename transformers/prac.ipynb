{
 "cells": [
  {
   "cell_type": "code",
   "execution_count": 14,
   "metadata": {},
   "outputs": [],
   "source": [
    "import torch \n",
    "import torch.nn as nn\n",
    "import numpy as np"
   ]
  },
  {
   "cell_type": "code",
   "execution_count": 15,
   "metadata": {},
   "outputs": [],
   "source": [
    "from input_encoding import InputEncoding\n",
    "from model.decoder_block import DecoderBlock\n",
    "from model.transformer_encoder import Encoder\n",
    "from model.transformer_decoder import Decoder"
   ]
  },
  {
   "cell_type": "code",
   "execution_count": 16,
   "metadata": {},
   "outputs": [],
   "source": [
    "t=torch.rand((4,8)).to(torch.long)"
   ]
  },
  {
   "cell_type": "code",
   "execution_count": 17,
   "metadata": {},
   "outputs": [],
   "source": [
    "class Transformer(nn.Module):\n",
    "    def __init__(self,encoder,decoder) -> None:\n",
    "        super().__init__()\n",
    "        self.encoder=encoder\n",
    "        self.decoder=decoder\n",
    "    def forward(self,src_embeddings,tgt_embeddings):\n",
    "        encoder_outputs=self.encoder(src_embeddings)\n",
    "        decoder_outputs=self.decoder(tgt_embeddings,encoder_outputs)\n",
    "        return decoder_outputs\n",
    "    \n",
    "    "
   ]
  },
  {
   "cell_type": "code",
   "execution_count": 18,
   "metadata": {},
   "outputs": [],
   "source": [
    "batch_size=8\n",
    "embed_size=6\n",
    "num_heads=3\n",
    "head_len=2\n",
    "seq_len=4\n",
    "forward_expansion=4\n",
    "num_encoders=6"
   ]
  },
  {
   "cell_type": "code",
   "execution_count": 19,
   "metadata": {},
   "outputs": [
    {
     "data": {
      "text/plain": [
       "torch.Size([4, 8, 6])"
      ]
     },
     "execution_count": 19,
     "metadata": {},
     "output_type": "execute_result"
    }
   ],
   "source": [
    "input_encodings=InputEncoding(embed_size=embed_size,vocab_size=100)\n",
    "encodings=input_encodings(t)\n",
    "encodings.shape"
   ]
  },
  {
   "cell_type": "code",
   "execution_count": 20,
   "metadata": {},
   "outputs": [
    {
     "data": {
      "text/plain": [
       "torch.Size([4, 8, 6])"
      ]
     },
     "execution_count": 20,
     "metadata": {},
     "output_type": "execute_result"
    }
   ],
   "source": [
    "encoder=Encoder(embed_size=embed_size,num_heads=num_heads,mask=False,batch_size=batch_size,forward_expansion=forward_expansion,num_encoders=num_encoders)\n",
    "encoder_outputs=encoder(encodings)\n",
    "encoder_outputs.shape"
   ]
  },
  {
   "cell_type": "code",
   "execution_count": 21,
   "metadata": {},
   "outputs": [],
   "source": [
    "decoder = Decoder(\n",
    "    embed_size=embed_size,\n",
    "    batch_size=batch_size,\n",
    "    num_heads=num_heads,\n",
    "    mask=True,\n",
    "    forward_expansion=forward_expansion,\n",
    "    num_decoders=num_encoders,\n",
    "    output_size=50\n",
    ")"
   ]
  },
  {
   "cell_type": "code",
   "execution_count": 22,
   "metadata": {},
   "outputs": [],
   "source": [
    "decod=decoder(encodings,encoder_outputs)"
   ]
  },
  {
   "cell_type": "code",
   "execution_count": 23,
   "metadata": {},
   "outputs": [
    {
     "data": {
      "text/plain": [
       "(torch.Size([8, 50]), torch.Size([8, 50]))"
      ]
     },
     "execution_count": 23,
     "metadata": {},
     "output_type": "execute_result"
    }
   ],
   "source": [
    "decod[0].shape,decod[1].shape"
   ]
  }
 ],
 "metadata": {
  "kernelspec": {
   "display_name": "practice",
   "language": "python",
   "name": "python3"
  },
  "language_info": {
   "codemirror_mode": {
    "name": "ipython",
    "version": 3
   },
   "file_extension": ".py",
   "mimetype": "text/x-python",
   "name": "python",
   "nbconvert_exporter": "python",
   "pygments_lexer": "ipython3",
   "version": "3.11.3"
  },
  "orig_nbformat": 4
 },
 "nbformat": 4,
 "nbformat_minor": 2
}
