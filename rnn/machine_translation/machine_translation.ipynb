{
 "cells": [
  {
   "cell_type": "code",
   "execution_count": 1,
   "metadata": {},
   "outputs": [],
   "source": [
    "import torch.nn as nn\n",
    "import torch\n",
    "from itertools import chain\n",
    "from collections import Counter\n",
    "from torchtext.vocab import vocab\n",
    "from torch.utils.data import Dataset,random_split,DataLoader\n",
    "import random\n",
    "from torch.nn.utils.rnn import pad_sequence\n",
    "from functools import partial\n",
    "import os\n",
    "import json\n",
    "from tqdm import tqdm\n",
    "from torchtext.data.metrics import bleu_score\n",
    "from torch.utils.tensorboard import SummaryWriter"
   ]
  },
  {
   "cell_type": "code",
   "execution_count": 2,
   "metadata": {},
   "outputs": [],
   "source": [
    "num_epochs=10\n",
    "learning_rate=0.003\n",
    "batch_size=1024"
   ]
  },
  {
   "cell_type": "code",
   "execution_count": 3,
   "metadata": {},
   "outputs": [],
   "source": [
    "def preprocess(data):\n",
    "    data=data.replace(\"\\u202f\",\" \").replace(\"\\xa0\",\" \").replace(\"\\u2009\",\" \")\n",
    "    no_space=lambda char,prev_char: char in \",.!?\" and prev_char !=' '\n",
    "    out=[' '+char if i>0 and no_space(char,data[i-1]) else char\n",
    "            for i,char in enumerate(data)]\n",
    "    out=''.join(out)\n",
    "    out=[\"\\t\".join(sentence.split(\"\\t\")[:2]) for sentence in out.split('\\n')]\n",
    "    out='\\n'.join(out)\n",
    "    return out"
   ]
  },
  {
   "cell_type": "code",
   "execution_count": 4,
   "metadata": {},
   "outputs": [],
   "source": [
    "def build_vocab(list_tokens):\n",
    "    tokens=sorted(chain.from_iterable((list_tokens)))\n",
    "    token_freq=Counter(tokens)\n",
    "    vocabulary=vocab(token_freq,specials=['<unk>','<pad>'])\n",
    "    vocabulary.set_default_index(0)\n",
    "    return vocabulary\n",
    "    "
   ]
  },
  {
   "cell_type": "code",
   "execution_count": 5,
   "metadata": {},
   "outputs": [],
   "source": [
    "def tokenizer(text):\n",
    "    return [token for token in f\"<sos> {text} <eos>\".split(\" \") if token]"
   ]
  },
  {
   "cell_type": "code",
   "execution_count": 6,
   "metadata": {},
   "outputs": [],
   "source": [
    "def separate_src_tgt(data,max_samples=None):\n",
    "    src=[]\n",
    "    tgt=[]\n",
    "    for i,text in enumerate(data):\n",
    "        if max_samples and i> max_samples:break\n",
    "        parts= text.split('\\t')\n",
    "        if len(parts)==2:\n",
    "            src.append(tokenizer(parts[0]))\n",
    "            tgt.append(tokenizer(parts[1]))\n",
    "    return src,tgt\n",
    "    "
   ]
  },
  {
   "cell_type": "code",
   "execution_count": 7,
   "metadata": {},
   "outputs": [],
   "source": [
    "class CustomDataset(Dataset):\n",
    "    def __init__(self,dataset) -> None:\n",
    "        super().__init__()\n",
    "        self.src_data=dataset[0]\n",
    "        self.tgt_data=dataset[1]\n",
    "    def __len__(self):\n",
    "        return len(self.src_data)\n",
    "    def __getitem__(self, index):\n",
    "        return self.src_data[index],self.tgt_data[index]"
   ]
  },
  {
   "cell_type": "code",
   "execution_count": 8,
   "metadata": {},
   "outputs": [],
   "source": [
    "def data_process_pipeline(data,eng_vocab=None,fra_vocab=None):\n",
    "    src,tgt=separate_src_tgt(data)\n",
    "    if eng_vocab is None:\n",
    "        eng_vocab=build_vocab(src)\n",
    "        fra_vocab=build_vocab(tgt)\n",
    "    src_idx=[eng_vocab.forward(sent) for sent in src]\n",
    "    tgt_idx=[fra_vocab.forward(sent) for sent in tgt]\n",
    "    train_dataset=CustomDataset((src_idx,tgt_idx))\n",
    "    return train_dataset,eng_vocab,fra_vocab"
   ]
  },
  {
   "cell_type": "code",
   "execution_count": 9,
   "metadata": {},
   "outputs": [],
   "source": [
    "def train_test_split(dataset,train_percent):\n",
    "    train_size=int(len(dataset)*train_percent)\n",
    "    train_data=dataset[:train_size]\n",
    "    test_data=dataset[train_size:]\n",
    "    return train_data,test_data\n",
    "    "
   ]
  },
  {
   "cell_type": "code",
   "execution_count": 10,
   "metadata": {},
   "outputs": [],
   "source": [
    "def load_data(data_path,train_size):\n",
    "    with open(data_path,'r',encoding=\"utf-8\") as fp:\n",
    "        data=fp.read()\n",
    "    clean_data=preprocess(data)\n",
    "    sent_list=[sent for sent in clean_data.split(\"\\n\") if len(sent)>0]\n",
    "    sorted_sent_list=sorted(sent_list,key=lambda x: len(x.split('\\t')[0].split(' ')))\n",
    "    train_data,test_data=train_test_split(sorted_sent_list,train_size)\n",
    "    return train_data,test_data"
   ]
  },
  {
   "cell_type": "code",
   "execution_count": 11,
   "metadata": {},
   "outputs": [],
   "source": [
    "raw_train_data,raw_val_data=load_data(\"data/fra.txt\",0.8)"
   ]
  },
  {
   "cell_type": "code",
   "execution_count": 12,
   "metadata": {},
   "outputs": [],
   "source": [
    "train_data,eng_vocab,fra_vocab=data_process_pipeline(raw_train_data)\n",
    "val_data,_,_=data_process_pipeline(raw_val_data,)\n"
   ]
  },
  {
   "cell_type": "code",
   "execution_count": 13,
   "metadata": {},
   "outputs": [],
   "source": [
    "def collate_fn(train_data,src_pad_val,tgt_pad_val):\n",
    "    src_data=[torch.LongTensor(src[0]) for src in train_data]\n",
    "    tgt_data=[torch.LongTensor(tgt[1]) for tgt in train_data]\n",
    "    src_tensor=pad_sequence(src_data,padding_value=src_pad_val)\n",
    "    tgt_tensor=pad_sequence(tgt_data,padding_value=tgt_pad_val)\n",
    "    return src_tensor,tgt_tensor\n",
    "\n",
    "train_loader = DataLoader(train_data, batch_size=batch_size, num_workers=8,collate_fn=partial(collate_fn,src_pad_val=eng_vocab['<pad>'],tgt_pad_val=fra_vocab['<pad>']))\n",
    "val_loader=DataLoader(val_data,batch_size=batch_size,num_workers=8,collate_fn=partial(collate_fn,src_pad_val=eng_vocab['<pad>'],tgt_pad_val=fra_vocab['<pad>']))"
   ]
  },
  {
   "cell_type": "code",
   "execution_count": 14,
   "metadata": {},
   "outputs": [],
   "source": [
    "\n",
    "input_size_encoder=len(eng_vocab)\n",
    "input_size_decoder=len(fra_vocab)\n",
    "output_size_decoder=len(fra_vocab)\n",
    "encoder_embedding_size=300\n",
    "decoder_embedding_size=300\n",
    "hidden_size=1024\n",
    "encoder_n_layers=2\n",
    "decoder_n_layers=2\n",
    "encoder_dropout=0.5\n",
    "decoder_dropout=0.5\n",
    "teacher_forcing_ratio=0.5\n",
    "device=\"cuda\" if torch.cuda.is_available() else \"cpu\""
   ]
  },
  {
   "cell_type": "code",
   "execution_count": 15,
   "metadata": {},
   "outputs": [],
   "source": [
    "class Encoder(nn.Module):\n",
    "    def __init__(self,vocab_size,embed_size,hidden_size,num_layers,drop_prob):\n",
    "        super().__init__()\n",
    "        self.embed_layer=nn.Embedding(vocab_size,embed_size)\n",
    "        self.rnn=nn.LSTM(embed_size,hidden_size,num_layers,dropout=drop_prob)\n",
    "    def forward(self,X):\n",
    "        embeddings=self.embed_layer(X)\n",
    "        # print(f\"embeddings shape : {embeddings.shape}\")\n",
    "        outputs,(hidden,cell)=self.rnn(embeddings)\n",
    "        return hidden,cell"
   ]
  },
  {
   "cell_type": "code",
   "execution_count": 16,
   "metadata": {},
   "outputs": [],
   "source": [
    "class Decoder(nn.Module):\n",
    "    def __init__(self,vocab_size,embed_size,hidden_size,num_layers,drop_prob,output_size) -> None:\n",
    "        super().__init__()\n",
    "        self.embed=nn.Embedding(vocab_size,embed_size)\n",
    "        self.rnn=nn.LSTM(embed_size,hidden_size,num_layers=num_layers,dropout=drop_prob)\n",
    "        self.fc=nn.Linear(hidden_size,output_size)\n",
    "    def forward(self,X,hidden,cell):\n",
    "        X=X.unsqueeze(0)\n",
    "        embeddings=self.embed(X)\n",
    "        outputs,(hidden,cell)=self.rnn(embeddings,(hidden,cell))\n",
    "        predictions=self.fc(outputs)\n",
    "        predictions=predictions.squeeze(0)\n",
    "        return predictions   "
   ]
  },
  {
   "cell_type": "code",
   "execution_count": 17,
   "metadata": {},
   "outputs": [],
   "source": [
    "class Seq2Seq(nn.Module):\n",
    "    def __init__(self,encoder,decoder) -> None:\n",
    "        super().__init__()\n",
    "        self.encoder=encoder\n",
    "        self.decoder=decoder\n",
    "    def forward(self,src,tgt,tgt_vocab_size,teacher_force_ratio):\n",
    "        \n",
    "        batch_size=src.shape[1]\n",
    "        target_len=tgt.shape[0]\n",
    "        outputs=torch.zeros((target_len,batch_size,tgt_vocab_size))\n",
    "        hidden,cell=self.encoder(src)\n",
    "        x=tgt[0]\n",
    "        for t in range(1,target_len):\n",
    "            output=self.decoder(x,hidden,cell)\n",
    "            outputs[t]=output\n",
    "            teacher_force=random.random()<teacher_force_ratio\n",
    "            top1=output.argmax(1)\n",
    "            x=tgt[t] if teacher_force else top1\n",
    "            \n",
    "        return outputs"
   ]
  },
  {
   "cell_type": "code",
   "execution_count": null,
   "metadata": {},
   "outputs": [],
   "source": []
  },
  {
   "cell_type": "code",
   "execution_count": 18,
   "metadata": {},
   "outputs": [],
   "source": [
    "class Trainer:\n",
    "    def __init__(\n",
    "        self,\n",
    "        model,\n",
    "        num_epochs,\n",
    "        batch_size,\n",
    "        criterion,\n",
    "        optimizer,\n",
    "        learning_rate,\n",
    "        output_size_decoder,\n",
    "        teacher_forcing_ratio,\n",
    "        device,\n",
    "        print_stats,\n",
    "        tgt_vocab,\n",
    "        pred_pipeline,\n",
    "    ):\n",
    "        self.num_epochs = num_epochs\n",
    "        self.batch_size = batch_size\n",
    "        self.output_size_decoder=output_size_decoder\n",
    "        self.criterion = criterion\n",
    "        self.optimizer = optimizer\n",
    "        self.learning_rate = learning_rate\n",
    "        self.teacher_forcing_ratio = teacher_forcing_ratio\n",
    "        self.device = device\n",
    "        self.print_stats=print_stats\n",
    "        self.tgt_vocab=tgt_vocab\n",
    "        self.pred_pipeline=pred_pipeline\n",
    "        self.loss={\"train\":[],'val':[]}\n",
    "        self.bleu={\"train\":[],'val':[]}\n",
    "        self.model=model.to(device)\n",
    "        self.writer=SummaryWriter()\n",
    "    def train(self, train_loader, val_loader, save_path):\n",
    "        for epoch in range(self.num_epochs):\n",
    "            self._train_epoch(train_loader)\n",
    "            self._val_epoch(val_loader)\n",
    "            if self.print_stats:\n",
    "                print(f\"\\n###########{epoch}#############\\n\")\n",
    "                print(f\"train loss : {self.loss['train'][-1]}\\t val loss: {self.loss['val'][-1]}\")\n",
    "                print(f\"train bleu score : {self.bleu['train'][-1]} \\t val bleu score : {self.bleu['val'][-1]}\")\n",
    "                test_txt=\"In this story an old man sets out to ask an Indian king to dig some well in his village when their water runs dry\"\n",
    "                expected_translation=\"Dans cette histoire, un vieil homme entreprend de demander à un roi indien de creuser un puits dans son village lorsque leur eau sera à sec.\"\n",
    "                predicted_translation=self.transcribe(test_txt,self.pred_pipeline,50,189,self.tgt_vocab,188)\n",
    "                blue_score=bleu_score([predicted_translation[0].split()],[[expected_translation.split()]],max_n=2,weights=[0.5,0.5])\n",
    "                print(f\"expected translation : \\t {expected_translation}\")\n",
    "                print(f\"predicted trainslation : \\t{predicted_translation}\")\n",
    "                print(f\"bleu_score : {blue_score}\")\n",
    "                print(\"\\n-----------------------------------\\n\")\n",
    "                if epoch==0:\n",
    "                    with open(os.path.join(save_path,\"sample_bleu.json\"),\"w+\") as fp :\n",
    "                        json.dump({\"src text\":test_txt,\n",
    "                         \"results\":[]},fp)\n",
    "                with open(os.path.join(save_path,\"sample_bleu.json\"),\"r+\") as fp :\n",
    "                    result={\"expected tranlation \":expected_translation,\n",
    "                          \"predicted translation\":predicted_translation,\n",
    "                          \"bleu score \":blue_score,\n",
    "                          \"epoch\":epoch\n",
    "                          }\n",
    "                    prev_data=json.load(fp)\n",
    "                    prev_data[\"results\"].append(result)\n",
    "                    fp.seek(0)\n",
    "                    json.dump(prev_data,fp)\n",
    "            self.writer.add_scalar(\"train loss \",self.loss['train'][-1],epoch)\n",
    "            self.writer.add_scalar(\"val loss \",self.loss['val'][-1],epoch)\n",
    "            self.writer.add_scalar(\"train bleu \",self.bleu['train'][-1],epoch)\n",
    "            self.writer.add_scalar(\"val bleu \",self.bleu['val'][-1],epoch)\n",
    "        self.save_model(os.path.join(save_path,\"model.pt\"))\n",
    "        self.save_loss(os.path.join(save_path,\"loss.json\"))\n",
    "        self.save_loss(os.path.join(save_path,\"bleu.json\"))\n",
    "    def _train_epoch(self,train_loader):\n",
    "        i=0\n",
    "        epoch_loss=0\n",
    "        epoch_bleu=0\n",
    "        for batch_src,batch_tgt in tqdm(train_loader):\n",
    "            i+=1\n",
    "            source=batch_src.to(self.device)\n",
    "            target=batch_tgt.to(self.device)\n",
    "            outputs=self.model(source,target,self.output_size_decoder,self.teacher_forcing_ratio)\n",
    "            preds=outputs.argmax(-1)\n",
    "            outputs=outputs[1:].reshape(-1,outputs.shape[-1])\n",
    "            batch_tgt=batch_tgt[1:].reshape(-1)\n",
    "            loss=self.criterion(outputs,batch_tgt)\n",
    "            epoch_loss+=loss.item()\n",
    "            self.optimizer.zero_grad()\n",
    "            loss.backward()\n",
    "            self.optimizer.step()\n",
    "            pred_tokens=[self.tgt_vocab.lookup_tokens(tokens) for tokens in preds[1:].t().tolist()]\n",
    "            target_tokens=[[self.tgt_vocab.lookup_tokens(tokens)] for tokens in target.t().tolist()]\n",
    "            bleu=bleu_score(pred_tokens,target_tokens,max_n=2,weights=[0.5,0.5])\n",
    "            epoch_bleu+=bleu\n",
    "        self.loss['train'].append(epoch_loss/i)\n",
    "        self.bleu['train'].append(epoch_bleu/i)\n",
    "        \n",
    "            \n",
    "    def _val_epoch(self,val_loader):\n",
    "        i=0\n",
    "        epoch_bleu=0\n",
    "        epoch_loss=0\n",
    "        with torch.no_grad():\n",
    "            for batch_src,batch_tgt in tqdm(val_loader):\n",
    "                i+=1\n",
    "                source=batch_src.to(self.device)\n",
    "                target=batch_tgt.to(self.device)\n",
    "                outputs=self.model(source,target,self.output_size_decoder,self.teacher_forcing_ratio)\n",
    "                preds=outputs.argmax(-1)\n",
    "                outputs=outputs[1:].reshape(-1,outputs.shape[-1])\n",
    "                batch_tgt=batch_tgt[1:].reshape(-1)\n",
    "                loss=self.criterion(outputs,batch_tgt)\n",
    "                pred_tokens=[self.tgt_vocab.lookup_tokens(tokens) for tokens in preds[1:].t().tolist()]\n",
    "                target_tokens=[[self.tgt_vocab.lookup_tokens(tokens)] for tokens in target.t().tolist()]\n",
    "                bleu=bleu_score(pred_tokens,target_tokens,max_n=2,weights=[0.5,0.5])\n",
    "                epoch_bleu+=bleu\n",
    "                epoch_loss+=loss.item()\n",
    "        self.loss['val'].append(epoch_loss/i)\n",
    "        self.bleu['val'].append(epoch_bleu/i)\n",
    "    def save_model(self,save_path):\n",
    "        torch.save(self.model,save_path)\n",
    "    def save_loss(self,save_path):\n",
    "        with open(save_path,\"w\") as fp:\n",
    "            json.dump(self.loss,fp)\n",
    "    def save_bleu_score(self,save_path):\n",
    "        with open(save_path,'w') as fp:\n",
    "            json.dump(self.bleu,fp)\n",
    "    \n",
    "    def transcribe(self,inputs,pipeline,max_tokens,start_token,tgt_vocab,end_token):\n",
    "        with torch.no_grad():\n",
    "            inputs=pipeline(inputs)\n",
    "            inputs=inputs.to(self.device)\n",
    "            hidden,cell=self.model.encoder(inputs)\n",
    "            output_tokens=[]\n",
    "            i=0\n",
    "            for i in range(inputs.shape[1]):\n",
    "                x=torch.LongTensor([start_token]).to(self.device)\n",
    "                current_output=[]\n",
    "                while True:\n",
    "                    predictions=self.model.decoder(x,hidden,cell)\n",
    "                    predictions=predictions.argmax(1)\n",
    "                    pred_tokens=tgt_vocab.lookup_token(predictions.item())\n",
    "                    current_output.append(pred_tokens)\n",
    "                    x=predictions\n",
    "                    if end_token==predictions or len(current_output)>=max_tokens:\n",
    "                        break\n",
    "                output_tokens.append(\" \".join(current_output))\n",
    "        return output_tokens"
   ]
  },
  {
   "cell_type": "code",
   "execution_count": 19,
   "metadata": {},
   "outputs": [],
   "source": [
    "encoder=Encoder(len(eng_vocab),embed_size=encoder_embedding_size,hidden_size=hidden_size,num_layers=encoder_n_layers,drop_prob=encoder_dropout)\n",
    "decoder=Decoder(len(fra_vocab),embed_size=decoder_embedding_size,hidden_size=hidden_size,num_layers=decoder_n_layers,drop_prob=decoder_dropout,output_size=len(fra_vocab))\n",
    "model=Seq2Seq(encoder=encoder,decoder=decoder)"
   ]
  },
  {
   "cell_type": "code",
   "execution_count": 20,
   "metadata": {},
   "outputs": [],
   "source": [
    "criterion=nn.CrossEntropyLoss(ignore_index=eng_vocab['<pad>'])\n",
    "optimizer=torch.optim.Adam(model.parameters(),lr=learning_rate)"
   ]
  },
  {
   "cell_type": "code",
   "execution_count": 21,
   "metadata": {},
   "outputs": [],
   "source": [
    "def predict_pipeline(txt):\n",
    "    if isinstance(txt,str):\n",
    "        txt=[txt]\n",
    "    sent_tokens=[tokenizer(tokens) for tokens in txt]\n",
    "    int_tokens=[eng_vocab.forward(tokens) for tokens in sent_tokens]\n",
    "    src_tensor=[torch.LongTensor(token_list) for token_list in int_tokens]\n",
    "    src=pad_sequence(src_tensor,padding_value=eng_vocab['<pad>'])\n",
    "    return src"
   ]
  },
  {
   "cell_type": "code",
   "execution_count": 22,
   "metadata": {},
   "outputs": [],
   "source": [
    "trainer=Trainer(model=model,num_epochs=num_epochs,batch_size=batch_size,criterion=criterion,optimizer=optimizer,learning_rate=learning_rate,output_size_decoder=len(fra_vocab),teacher_forcing_ratio=teacher_forcing_ratio,device=device,print_stats=True,tgt_vocab=fra_vocab,pred_pipeline=predict_pipeline)"
   ]
  },
  {
   "cell_type": "code",
   "execution_count": 23,
   "metadata": {
    "tags": []
   },
   "outputs": [
    {
     "name": "stderr",
     "output_type": "stream",
     "text": [
      "100%|████████████████████████████████████████████████████████████████████████████████| 171/171 [17:50<00:00,  6.26s/it]\n",
      "100%|██████████████████████████████████████████████████████████████████████████████████| 43/43 [01:48<00:00,  2.53s/it]\n"
     ]
    },
    {
     "name": "stdout",
     "output_type": "stream",
     "text": [
      "\n",
      "###########0#############\n",
      "\n",
      "train loss : 5.429914100825438\t val loss: 13.663817250451377\n",
      "train bleu score : 0.09613293382107199 \t val bleu score : 0.0\n",
      "expected translation : \t Dans cette histoire, un vieil homme entreprend de demander à un roi indien de creuser un puits dans son village lorsque leur eau sera à sec.\n",
      "predicted trainslation : \t['« temps ? <eos>']\n",
      "bleu_score : 0.0\n",
      "\n",
      "-----------------------------------\n",
      "\n"
     ]
    },
    {
     "name": "stderr",
     "output_type": "stream",
     "text": [
      "100%|████████████████████████████████████████████████████████████████████████████████| 171/171 [18:13<00:00,  6.39s/it]\n",
      "100%|██████████████████████████████████████████████████████████████████████████████████| 43/43 [01:48<00:00,  2.53s/it]\n"
     ]
    },
    {
     "name": "stdout",
     "output_type": "stream",
     "text": [
      "\n",
      "###########1#############\n",
      "\n",
      "train loss : 4.468157688776652\t val loss: 13.564084651858307\n",
      "train bleu score : 0.13301422644803457 \t val bleu score : 0.0\n",
      "expected translation : \t Dans cette histoire, un vieil homme entreprend de demander à un roi indien de creuser un puits dans son village lorsque leur eau sera à sec.\n",
      "predicted trainslation : \t['La de la . <eos>']\n",
      "bleu_score : 0.0\n",
      "\n",
      "-----------------------------------\n",
      "\n"
     ]
    },
    {
     "name": "stderr",
     "output_type": "stream",
     "text": [
      "100%|████████████████████████████████████████████████████████████████████████████████| 171/171 [18:13<00:00,  6.39s/it]\n",
      "100%|██████████████████████████████████████████████████████████████████████████████████| 43/43 [01:49<00:00,  2.54s/it]\n"
     ]
    },
    {
     "name": "stdout",
     "output_type": "stream",
     "text": [
      "\n",
      "###########2#############\n",
      "\n",
      "train loss : 3.623633338693987\t val loss: 13.8826162205186\n",
      "train bleu score : 0.1672759608698524 \t val bleu score : 3.1363901035217715e-05\n",
      "expected translation : \t Dans cette histoire, un vieil homme entreprend de demander à un roi indien de creuser un puits dans son village lorsque leur eau sera à sec.\n",
      "predicted trainslation : \t['La voiture ? <eos>']\n",
      "bleu_score : 0.0\n",
      "\n",
      "-----------------------------------\n",
      "\n"
     ]
    },
    {
     "name": "stderr",
     "output_type": "stream",
     "text": [
      "100%|████████████████████████████████████████████████████████████████████████████████| 171/171 [18:08<00:00,  6.37s/it]\n",
      "100%|██████████████████████████████████████████████████████████████████████████████████| 43/43 [01:48<00:00,  2.51s/it]\n"
     ]
    },
    {
     "name": "stdout",
     "output_type": "stream",
     "text": [
      "\n",
      "###########3#############\n",
      "\n",
      "train loss : 2.996352057707937\t val loss: 14.292387585307276\n",
      "train bleu score : 0.1977042283981259 \t val bleu score : 2.359135772438463e-05\n",
      "expected translation : \t Dans cette histoire, un vieil homme entreprend de demander à un roi indien de creuser un puits dans son village lorsque leur eau sera à sec.\n",
      "predicted trainslation : \t[\"Dans quel ordinateur , c'est un jour dans ce bâtiment a un jour dans ce bâtiment de ce soir . <eos>\"]\n",
      "bleu_score : 0.0\n",
      "\n",
      "-----------------------------------\n",
      "\n"
     ]
    },
    {
     "name": "stderr",
     "output_type": "stream",
     "text": [
      "100%|████████████████████████████████████████████████████████████████████████████████| 171/171 [17:44<00:00,  6.22s/it]\n",
      "100%|██████████████████████████████████████████████████████████████████████████████████| 43/43 [01:48<00:00,  2.52s/it]\n"
     ]
    },
    {
     "name": "stdout",
     "output_type": "stream",
     "text": [
      "\n",
      "###########4#############\n",
      "\n",
      "train loss : 2.4698233409234653\t val loss: 14.85745423339134\n",
      "train bleu score : 0.2287104228665654 \t val bleu score : 9.393288329707728e-06\n",
      "expected translation : \t Dans cette histoire, un vieil homme entreprend de demander à un roi indien de creuser un puits dans son village lorsque leur eau sera à sec.\n",
      "predicted trainslation : \t['À utiliser une histoire pour utiliser ce livre ou utiliser ce livre ? <eos>']\n",
      "bleu_score : 0.0\n",
      "\n",
      "-----------------------------------\n",
      "\n"
     ]
    },
    {
     "name": "stderr",
     "output_type": "stream",
     "text": [
      "100%|████████████████████████████████████████████████████████████████████████████████| 171/171 [17:45<00:00,  6.23s/it]\n",
      "100%|██████████████████████████████████████████████████████████████████████████████████| 43/43 [01:48<00:00,  2.52s/it]\n"
     ]
    },
    {
     "name": "stdout",
     "output_type": "stream",
     "text": [
      "\n",
      "###########5#############\n",
      "\n",
      "train loss : 2.065730781583061\t val loss: 15.621812953505405\n",
      "train bleu score : 0.2575588264363604 \t val bleu score : 1.0183563886935215e-05\n",
      "expected translation : \t Dans cette histoire, un vieil homme entreprend de demander à un roi indien de creuser un puits dans son village lorsque leur eau sera à sec.\n",
      "predicted trainslation : \t['Ce bus ? <eos>']\n",
      "bleu_score : 0.0\n",
      "\n",
      "-----------------------------------\n",
      "\n"
     ]
    },
    {
     "name": "stderr",
     "output_type": "stream",
     "text": [
      "100%|████████████████████████████████████████████████████████████████████████████████| 171/171 [17:50<00:00,  6.26s/it]\n",
      "100%|██████████████████████████████████████████████████████████████████████████████████| 43/43 [01:48<00:00,  2.52s/it]\n"
     ]
    },
    {
     "name": "stdout",
     "output_type": "stream",
     "text": [
      "\n",
      "###########6#############\n",
      "\n",
      "train loss : 1.77553441510563\t val loss: 16.46398774967637\n",
      "train bleu score : 0.2811894808441532 \t val bleu score : 5.930077550331532e-06\n",
      "expected translation : \t Dans cette histoire, un vieil homme entreprend de demander à un roi indien de creuser un puits dans son village lorsque leur eau sera à sec.\n",
      "predicted trainslation : \t['À quel point de à quel <eos>']\n",
      "bleu_score : 0.0\n",
      "\n",
      "-----------------------------------\n",
      "\n"
     ]
    },
    {
     "name": "stderr",
     "output_type": "stream",
     "text": [
      "100%|████████████████████████████████████████████████████████████████████████████████| 171/171 [17:50<00:00,  6.26s/it]\n",
      "100%|██████████████████████████████████████████████████████████████████████████████████| 43/43 [01:48<00:00,  2.52s/it]\n"
     ]
    },
    {
     "name": "stdout",
     "output_type": "stream",
     "text": [
      "\n",
      "###########7#############\n",
      "\n",
      "train loss : 1.5626653997521651\t val loss: 16.88708873127782\n",
      "train bleu score : 0.3011173415359612 \t val bleu score : 8.043150106197592e-05\n",
      "expected translation : \t Dans cette histoire, un vieil homme entreprend de demander à un roi indien de creuser un puits dans son village lorsque leur eau sera à sec.\n",
      "predicted trainslation : \t['Le bus a un <eos>']\n",
      "bleu_score : 0.0\n",
      "\n",
      "-----------------------------------\n",
      "\n"
     ]
    },
    {
     "name": "stderr",
     "output_type": "stream",
     "text": [
      "100%|████████████████████████████████████████████████████████████████████████████████| 171/171 [17:48<00:00,  6.25s/it]\n",
      "100%|██████████████████████████████████████████████████████████████████████████████████| 43/43 [01:47<00:00,  2.51s/it]\n"
     ]
    },
    {
     "name": "stdout",
     "output_type": "stream",
     "text": [
      "\n",
      "###########8#############\n",
      "\n",
      "train loss : 1.4190863597462748\t val loss: 17.311570988144986\n",
      "train bleu score : 0.3157033586118601 \t val bleu score : 5.269549539664291e-05\n",
      "expected translation : \t Dans cette histoire, un vieil homme entreprend de demander à un roi indien de creuser un puits dans son village lorsque leur eau sera à sec.\n",
      "predicted trainslation : \t['Le chien de leur oiseau . <eos>']\n",
      "bleu_score : 0.0\n",
      "\n",
      "-----------------------------------\n",
      "\n"
     ]
    },
    {
     "name": "stderr",
     "output_type": "stream",
     "text": [
      "100%|████████████████████████████████████████████████████████████████████████████████| 171/171 [17:50<00:00,  6.26s/it]\n",
      "100%|██████████████████████████████████████████████████████████████████████████████████| 43/43 [01:47<00:00,  2.51s/it]\n"
     ]
    },
    {
     "name": "stdout",
     "output_type": "stream",
     "text": [
      "\n",
      "###########9#############\n",
      "\n",
      "train loss : 1.320338190996159\t val loss: 17.702983856201172\n",
      "train bleu score : 0.3266650063176182 \t val bleu score : 3.693877024823806e-05\n",
      "expected translation : \t Dans cette histoire, un vieil homme entreprend de demander à un roi indien de creuser un puits dans son village lorsque leur eau sera à sec.\n",
      "predicted trainslation : \t['Ce faut un un un un un un un autre zone . <eos>']\n",
      "bleu_score : 0.0\n",
      "\n",
      "-----------------------------------\n",
      "\n"
     ]
    }
   ],
   "source": [
    "trainer.train(train_loader,val_loader,\"results\")"
   ]
  }
 ],
 "metadata": {
  "kernelspec": {
   "display_name": "Python 3 (ipykernel)",
   "language": "python",
   "name": "python3"
  },
  "language_info": {
   "codemirror_mode": {
    "name": "ipython",
    "version": 3
   },
   "file_extension": ".py",
   "mimetype": "text/x-python",
   "name": "python",
   "nbconvert_exporter": "python",
   "pygments_lexer": "ipython3",
   "version": "3.9.16"
  },
  "toc-autonumbering": true,
  "toc-showtags": false,
  "widgets": {
   "application/vnd.jupyter.widget-state+json": {
    "state": {},
    "version_major": 2,
    "version_minor": 0
   }
  }
 },
 "nbformat": 4,
 "nbformat_minor": 4
}
