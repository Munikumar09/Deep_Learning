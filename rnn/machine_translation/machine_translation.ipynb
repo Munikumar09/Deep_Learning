{
 "cells": [
  {
   "cell_type": "code",
   "execution_count": 213,
   "metadata": {},
   "outputs": [],
   "source": [
    "import torch.nn as nn\n",
    "import torch\n",
    "from itertools import chain\n",
    "from collections import Counter\n",
    "from torchtext.vocab import vocab\n",
    "from torch.utils.data import Dataset,random_split,DataLoader\n",
    "import random\n",
    "from torch.nn.utils.rnn import pad_sequence\n",
    "from functools import partial\n",
    "import os\n",
    "import json\n",
    "from tqdm import tqdm\n",
    "from torchtext.data.metrics import bleu_score"
   ]
  },
  {
   "cell_type": "code",
   "execution_count": 214,
   "metadata": {},
   "outputs": [],
   "source": [
    "num_epochs=5\n",
    "learning_rate=0.001\n",
    "batch_size=64"
   ]
  },
  {
   "cell_type": "code",
   "execution_count": 215,
   "metadata": {},
   "outputs": [],
   "source": [
    "def preprocess(data):\n",
    "    data=data.replace(\"\\u202f\",\" \").replace(\"\\xa0\",\" \").replace(\"\\u2009\",\" \")\n",
    "    no_space=lambda char,prev_char: char in \",.!?\" and prev_char !=' '\n",
    "    out=[' '+char if i>0 and no_space(char,data[i-1]) else char\n",
    "            for i,char in enumerate(data)]\n",
    "    out=''.join(out)\n",
    "    out=[\"\\t\".join(sentence.split(\"\\t\")[:2]) for sentence in out.split('\\n')]\n",
    "    out='\\n'.join(out)\n",
    "    return out"
   ]
  },
  {
   "cell_type": "code",
   "execution_count": 216,
   "metadata": {},
   "outputs": [],
   "source": [
    "def build_vocab(list_tokens):\n",
    "    tokens=sorted(chain.from_iterable((list_tokens)))\n",
    "    token_freq=Counter(tokens)\n",
    "    vocabulary=vocab(token_freq,specials=['<unk>','<pad>'])\n",
    "    vocabulary.set_default_index(0)\n",
    "    return vocabulary\n",
    "    "
   ]
  },
  {
   "cell_type": "code",
   "execution_count": 217,
   "metadata": {},
   "outputs": [],
   "source": [
    "def tokenizer(text):\n",
    "    return [token for token in f\"<sos> {text} <eos>\".split(\" \") if token]"
   ]
  },
  {
   "cell_type": "code",
   "execution_count": 218,
   "metadata": {},
   "outputs": [],
   "source": [
    "def separate_src_tgt(data,max_samples=None):\n",
    "    src=[]\n",
    "    tgt=[]\n",
    "    for i,text in enumerate(data):\n",
    "        if max_samples and i> max_samples:break\n",
    "        parts= text.split('\\t')\n",
    "        if len(parts)==2:\n",
    "            src.append(tokenizer(parts[0]))\n",
    "            tgt.append(tokenizer(parts[1]))\n",
    "    return src,tgt\n",
    "    "
   ]
  },
  {
   "cell_type": "code",
   "execution_count": 219,
   "metadata": {},
   "outputs": [],
   "source": [
    "class CustomDataset(Dataset):\n",
    "    def __init__(self,dataset) -> None:\n",
    "        super().__init__()\n",
    "        self.src_data=dataset[0]\n",
    "        self.tgt_data=dataset[1]\n",
    "    def __len__(self):\n",
    "        return len(self.src_data)\n",
    "    def __getitem__(self, index):\n",
    "        return self.src_data[index],self.tgt_data[index]"
   ]
  },
  {
   "cell_type": "code",
   "execution_count": 220,
   "metadata": {},
   "outputs": [],
   "source": [
    "def data_process_pipeline(data,eng_vocab=None,fra_vocab=None):\n",
    "    src,tgt=separate_src_tgt(data)\n",
    "    if eng_vocab is None:\n",
    "        eng_vocab=build_vocab(src)\n",
    "        fra_vocab=build_vocab(tgt)\n",
    "    src_idx=[eng_vocab.forward(sent) for sent in src]\n",
    "    tgt_idx=[fra_vocab.forward(sent) for sent in tgt]\n",
    "    train_dataset=CustomDataset((src_idx,tgt_idx))\n",
    "    return train_dataset,eng_vocab,fra_vocab"
   ]
  },
  {
   "cell_type": "code",
   "execution_count": 221,
   "metadata": {},
   "outputs": [],
   "source": [
    "def train_test_split(dataset,train_percent):\n",
    "    train_size=int(len(dataset)*train_percent)\n",
    "    train_data=dataset[:train_size]\n",
    "    test_data=dataset[train_size:]\n",
    "    return train_data,test_data\n",
    "    "
   ]
  },
  {
   "cell_type": "code",
   "execution_count": 222,
   "metadata": {},
   "outputs": [],
   "source": [
    "def load_data(data_path,train_size):\n",
    "    with open(data_path,'r',encoding=\"utf-8\") as fp:\n",
    "        data=fp.read()\n",
    "    clean_data=preprocess(data)\n",
    "    sent_list=[sent for sent in clean_data.split(\"\\n\") if len(sent)>0]\n",
    "    sorted_sent_list=sorted(sent_list,key=lambda x: len(x.split('\\t')[0].split(' ')))\n",
    "    train_data,test_data=train_test_split(sorted_sent_list,train_size)\n",
    "    return train_data,test_data"
   ]
  },
  {
   "cell_type": "code",
   "execution_count": 223,
   "metadata": {},
   "outputs": [],
   "source": [
    "raw_train_data,raw_val_data=load_data(\"fra.txt\",0.8)"
   ]
  },
  {
   "cell_type": "code",
   "execution_count": 224,
   "metadata": {},
   "outputs": [],
   "source": [
    "train_data,eng_vocab,fra_vocab=data_process_pipeline(raw_train_data)\n",
    "val_data,_,_=data_process_pipeline(raw_val_data,)\n"
   ]
  },
  {
   "cell_type": "code",
   "execution_count": 225,
   "metadata": {},
   "outputs": [],
   "source": [
    "def collate_fn(train_data,src_pad_val,tgt_pad_val):\n",
    "    src_data=[torch.LongTensor(src[0]) for src in train_data]\n",
    "    tgt_data=[torch.LongTensor(tgt[1]) for tgt in train_data]\n",
    "    src_tensor=pad_sequence(src_data,padding_value=src_pad_val)\n",
    "    tgt_tensor=pad_sequence(tgt_data,padding_value=tgt_pad_val)\n",
    "    return src_tensor,tgt_tensor\n",
    "\n",
    "train_loader = DataLoader(train_data, batch_size=batch_size, collate_fn=partial(collate_fn,src_pad_val=eng_vocab['<pad>'],tgt_pad_val=fra_vocab['<pad>']))\n",
    "val_loader=DataLoader(val_data,batch_size=batch_size,collate_fn=partial(collate_fn,src_pad_val=eng_vocab['<pad>'],tgt_pad_val=fra_vocab['<pad>']))"
   ]
  },
  {
   "cell_type": "code",
   "execution_count": 226,
   "metadata": {},
   "outputs": [],
   "source": [
    "\n",
    "input_size_encoder=len(eng_vocab)\n",
    "input_size_decoder=len(fra_vocab)\n",
    "output_size_decoder=len(fra_vocab)\n",
    "encoder_embedding_size=300\n",
    "decoder_embedding_size=300\n",
    "hidden_size=1024\n",
    "encoder_n_layers=2\n",
    "decoder_n_layers=2\n",
    "encoder_dropout=0.5\n",
    "decoder_dropout=0.5\n",
    "teacher_forcing_ratio=0.5\n",
    "device=\"cuda\" if torch.cuda.is_available() else \"cpu\""
   ]
  },
  {
   "cell_type": "code",
   "execution_count": 227,
   "metadata": {},
   "outputs": [],
   "source": [
    "class Encoder(nn.Module):\n",
    "    def __init__(self,vocab_size,embed_size,hidden_size,num_layers,drop_prob):\n",
    "        super().__init__()\n",
    "        self.embed_layer=nn.Embedding(vocab_size,embed_size)\n",
    "        self.rnn=nn.LSTM(embed_size,hidden_size,num_layers,dropout=drop_prob)\n",
    "    def forward(self,X):\n",
    "        embeddings=self.embed_layer(X)\n",
    "        # print(f\"embeddings shape : {embeddings.shape}\")\n",
    "        outputs,(hidden,cell)=self.rnn(embeddings)\n",
    "        return hidden,cell"
   ]
  },
  {
   "cell_type": "code",
   "execution_count": 228,
   "metadata": {},
   "outputs": [],
   "source": [
    "class Decoder(nn.Module):\n",
    "    def __init__(self,vocab_size,embed_size,hidden_size,num_layers,drop_prob,output_size) -> None:\n",
    "        super().__init__()\n",
    "        self.embed=nn.Embedding(vocab_size,embed_size)\n",
    "        self.rnn=nn.LSTM(embed_size,hidden_size,num_layers=num_layers,dropout=drop_prob)\n",
    "        self.fc=nn.Linear(hidden_size,output_size)\n",
    "    def forward(self,X,hidden,cell):\n",
    "        X=X.unsqueeze(0)\n",
    "        embeddings=self.embed(X)\n",
    "        outputs,(hidden,cell)=self.rnn(embeddings,(hidden,cell))\n",
    "        predictions=self.fc(outputs)\n",
    "        predictions=predictions.squeeze(0)\n",
    "        return predictions   "
   ]
  },
  {
   "cell_type": "code",
   "execution_count": 229,
   "metadata": {},
   "outputs": [],
   "source": [
    "class Seq2Seq(nn.Module):\n",
    "    def __init__(self,encoder,decoder) -> None:\n",
    "        super().__init__()\n",
    "        self.encoder=encoder\n",
    "        self.decoder=decoder\n",
    "    def forward(self,src,tgt,tgt_vocab_size,teacher_force_ratio):\n",
    "        \n",
    "        batch_size=src.shape[1]\n",
    "        target_len=tgt.shape[0]\n",
    "        outputs=torch.zeros((target_len,batch_size,tgt_vocab_size))\n",
    "        hidden,cell=self.encoder(src)\n",
    "        x=tgt[0]\n",
    "        for t in range(1,target_len):\n",
    "            output=self.decoder(x,hidden,cell)\n",
    "            outputs[t]=output\n",
    "            teacher_force=random.random()<teacher_force_ratio\n",
    "            top1=output.argmax(1)\n",
    "            x=tgt[t] if teacher_force else top1\n",
    "            \n",
    "        return outputs"
   ]
  },
  {
   "cell_type": "code",
   "execution_count": 230,
   "metadata": {},
   "outputs": [],
   "source": [
    "class Trainer:\n",
    "    def __init__(\n",
    "        self,\n",
    "        model,\n",
    "        num_epochs,\n",
    "        batch_size,\n",
    "        criterion,\n",
    "        optimizer,\n",
    "        learning_rate,\n",
    "        output_size_decoder,\n",
    "        teacher_forcing_ratio,\n",
    "        device,\n",
    "        print_stats,\n",
    "        tgt_vocab,\n",
    "        pred_pipeline,\n",
    "    ):\n",
    "        self.num_epochs = num_epochs\n",
    "        self.batch_size = batch_size\n",
    "        self.output_size_decoder=output_size_decoder\n",
    "        self.criterion = criterion\n",
    "        self.optimizer = optimizer\n",
    "        self.learning_rate = learning_rate\n",
    "        self.teacher_forcing_ratio = teacher_forcing_ratio\n",
    "        self.device = device\n",
    "        self.print_stats=print_stats\n",
    "        self.tgt_vocab=tgt_vocab\n",
    "        self.pred_pipeline=pred_pipeline\n",
    "        self.loss={\"train\":[],'val':[]}\n",
    "        self.bleu={\"train\":[],'val':[]}\n",
    "        self.model=model.to(device)\n",
    "    def train(self, train_loader, val_loader, save_path):\n",
    "        for epoch in tqdm(range(self.num_epochs)):\n",
    "            self._train_epoch(train_loader)\n",
    "            self._val_epoch(val_loader)\n",
    "            if self.print_stats:\n",
    "                print(f\"train loss : {self.loss['train'][-1]}\\t val loss: {self.loss['val'][-1]}\")\n",
    "                print(f\"train bleu score : {self.bleu['train'][-1]} \\t val bleu score : {self.bleu['val'][-1]}\")\n",
    "                test_txt=\"In this story an old man sets out to ask an Indian king to dig some well in his village when their water runs dry\"\n",
    "                expected_translation=\"Dans cette histoire, un vieil homme entreprend de demander à un roi indien de creuser un puits dans son village lorsque leur eau sera à sec.\"\n",
    "                predicted_translation=self.transcribe(test_txt,self.pred_pipeline,50,189,self.tgt_vocab,188)\n",
    "                print(f\"expected translation : \\t {expected_translation}\")\n",
    "                print(f\"predicted trainslation : \\t{predicted_translation}\")\n",
    "                print(f\"bleu_score : {bleu_score([predicted_translation[0].split()],[[expected_translation.split()]],max_n=2,weights=[0.5,0.5])}\")\n",
    "                print(\"\\n-----------------------------------\\n\")\n",
    "        self.save_model(os.path.join(save_path,\"model.pt\"))\n",
    "        self.save_loss(os.path.join(save_path,\"loss.json\"))\n",
    "    def _train_epoch(self,train_loader):\n",
    "        i=0\n",
    "        epoch_loss=0\n",
    "        epoch_bleu=0\n",
    "        for batch_src,batch_tgt in train_loader:\n",
    "            i+=1\n",
    "            source=batch_src.to(self.device)\n",
    "            target=batch_tgt.to(self.device)\n",
    "            outputs=self.model(source,target,self.output_size_decoder,self.teacher_forcing_ratio)\n",
    "            preds=outputs.argmax(-1)\n",
    "            outputs=outputs[1:].reshape(-1,outputs.shape[-1])\n",
    "            batch_tgt=batch_tgt[1:].reshape(-1)\n",
    "            loss=self.criterion(outputs,batch_tgt)\n",
    "            epoch_loss+=loss.item()\n",
    "            self.optimizer.zero_grad()\n",
    "            loss.backward()\n",
    "            self.optimizer.step()\n",
    "            pred_tokens=[self.tgt_vocab.lookup_tokens(tokens) for tokens in preds[1:].t().tolist()]\n",
    "            target_tokens=[[self.tgt_vocab.lookup_tokens(tokens)] for tokens in target.t().tolist()]\n",
    "            bleu=bleu_score(pred_tokens,target_tokens,max_n=2,weights=[0.5,0.5])\n",
    "            epoch_bleu+=bleu\n",
    "            if i>=5:\n",
    "                break\n",
    "        self.loss['train'].append(epoch_loss/i)\n",
    "        self.bleu['train'].append(epoch_bleu/i)\n",
    "                \n",
    "            \n",
    "    def _val_epoch(self,val_loader):\n",
    "        i=0\n",
    "        epoch_bleu=0\n",
    "        epoch_loss=0\n",
    "        with torch.no_grad():\n",
    "            for batch_src,batch_tgt in val_loader:\n",
    "                i+=1\n",
    "                source=batch_src.to(self.device)\n",
    "                target=batch_tgt.to(self.device)\n",
    "                outputs=self.model(source,target,self.output_size_decoder,self.teacher_forcing_ratio)\n",
    "                preds=outputs.argmax(-1)\n",
    "                outputs=outputs[1:].reshape(-1,outputs.shape[-1])\n",
    "                batch_tgt=batch_tgt[1:].reshape(-1)\n",
    "                loss=self.criterion(outputs,batch_tgt)\n",
    "                pred_tokens=[self.tgt_vocab.lookup_tokens(tokens) for tokens in preds[1:].t().tolist()]\n",
    "                target_tokens=[[self.tgt_vocab.lookup_tokens(tokens)] for tokens in target.t().tolist()]\n",
    "                bleu=bleu_score(pred_tokens,target_tokens,max_n=2,weights=[0.5,0.5])\n",
    "                epoch_bleu+=bleu\n",
    "                epoch_loss+=loss.item()\n",
    "                if i>=5:\n",
    "                    break\n",
    "        self.loss['val'].append(epoch_loss/i)\n",
    "        self.bleu['val'].append(epoch_bleu/i)\n",
    "    def save_model(self,save_path):\n",
    "        torch.save(self.model,save_path)\n",
    "    def save_loss(self,save_path):\n",
    "        with open(save_path,\"w\") as fp:\n",
    "            json.dump(self.loss,fp)\n",
    "    \n",
    "    def transcribe(self,inputs,pipeline,max_tokens,start_token,tgt_vocab,end_token):\n",
    "        with torch.no_grad():\n",
    "            inputs=pipeline(inputs)\n",
    "            inputs=inputs.to(self.device)\n",
    "            hidden,cell=self.model.encoder(inputs)\n",
    "            output_tokens=[]\n",
    "            i=0\n",
    "            for i in range(inputs.shape[1]):\n",
    "                x=torch.LongTensor([start_token]).to(self.device)\n",
    "                current_output=[]\n",
    "                while True:\n",
    "                    predictions=self.model.decoder(x,hidden,cell)\n",
    "                    predictions=predictions.argmax(1)\n",
    "                    pred_tokens=tgt_vocab.lookup_token(predictions.item())\n",
    "                    current_output.append(pred_tokens)\n",
    "                    x=predictions\n",
    "                    if end_token==predictions or len(current_output)>=max_tokens:\n",
    "                        break\n",
    "                output_tokens.append(\" \".join(current_output))\n",
    "        return output_tokens"
   ]
  },
  {
   "cell_type": "code",
   "execution_count": 231,
   "metadata": {},
   "outputs": [],
   "source": [
    "encoder=Encoder(len(eng_vocab),embed_size=encoder_embedding_size,hidden_size=hidden_size,num_layers=encoder_n_layers,drop_prob=encoder_dropout)\n",
    "decoder=Decoder(len(fra_vocab),embed_size=decoder_embedding_size,hidden_size=hidden_size,num_layers=decoder_n_layers,drop_prob=decoder_dropout,output_size=len(fra_vocab))\n",
    "model=Seq2Seq(encoder=encoder,decoder=decoder)"
   ]
  },
  {
   "cell_type": "code",
   "execution_count": 232,
   "metadata": {},
   "outputs": [],
   "source": [
    "criterion=nn.CrossEntropyLoss(ignore_index=eng_vocab['<pad>'])\n",
    "optimizer=torch.optim.Adam(model.parameters(),lr=learning_rate)"
   ]
  },
  {
   "cell_type": "code",
   "execution_count": 233,
   "metadata": {},
   "outputs": [],
   "source": [
    "def predict_pipeline(txt):\n",
    "    if isinstance(txt,str):\n",
    "        txt=[txt]\n",
    "    sent_tokens=[tokenizer(tokens) for tokens in txt]\n",
    "    int_tokens=[eng_vocab.forward(tokens) for tokens in sent_tokens]\n",
    "    src_tensor=[torch.LongTensor(token_list) for token_list in int_tokens]\n",
    "    src=pad_sequence(src_tensor,padding_value=eng_vocab['<pad>'])\n",
    "    return src"
   ]
  },
  {
   "cell_type": "code",
   "execution_count": 234,
   "metadata": {},
   "outputs": [],
   "source": [
    "trainer=Trainer(model=model,num_epochs=num_epochs,batch_size=batch_size,criterion=criterion,optimizer=optimizer,learning_rate=learning_rate,output_size_decoder=len(fra_vocab),teacher_forcing_ratio=teacher_forcing_ratio,device=device,print_stats=True,tgt_vocab=fra_vocab,pred_pipeline=predict_pipeline)"
   ]
  },
  {
   "cell_type": "code",
   "execution_count": 235,
   "metadata": {},
   "outputs": [
    {
     "name": "stderr",
     "output_type": "stream",
     "text": [
      "  0%|          | 0/5 [00:02<?, ?it/s]\n"
     ]
    },
    {
     "ename": "KeyboardInterrupt",
     "evalue": "",
     "output_type": "error",
     "traceback": [
      "\u001b[0;31m---------------------------------------------------------------------------\u001b[0m",
      "\u001b[0;31mKeyboardInterrupt\u001b[0m                         Traceback (most recent call last)",
      "Cell \u001b[0;32mIn[235], line 1\u001b[0m\n\u001b[0;32m----> 1\u001b[0m trainer\u001b[39m.\u001b[39;49mtrain(train_loader,val_loader,\u001b[39m\"\u001b[39;49m\u001b[39mresults\u001b[39;49m\u001b[39m\"\u001b[39;49m)\n",
      "Cell \u001b[0;32mIn[230], line 33\u001b[0m, in \u001b[0;36mTrainer.train\u001b[0;34m(self, train_loader, val_loader, save_path)\u001b[0m\n\u001b[1;32m     31\u001b[0m \u001b[39mdef\u001b[39;00m \u001b[39mtrain\u001b[39m(\u001b[39mself\u001b[39m, train_loader, val_loader, save_path):\n\u001b[1;32m     32\u001b[0m     \u001b[39mfor\u001b[39;00m epoch \u001b[39min\u001b[39;00m tqdm(\u001b[39mrange\u001b[39m(\u001b[39mself\u001b[39m\u001b[39m.\u001b[39mnum_epochs)):\n\u001b[0;32m---> 33\u001b[0m         \u001b[39mself\u001b[39;49m\u001b[39m.\u001b[39;49m_train_epoch(train_loader)\n\u001b[1;32m     34\u001b[0m         \u001b[39mself\u001b[39m\u001b[39m.\u001b[39m_val_epoch(val_loader)\n\u001b[1;32m     35\u001b[0m         \u001b[39mif\u001b[39;00m \u001b[39mself\u001b[39m\u001b[39m.\u001b[39mprint_stats:\n",
      "Cell \u001b[0;32mIn[230], line 63\u001b[0m, in \u001b[0;36mTrainer._train_epoch\u001b[0;34m(self, train_loader)\u001b[0m\n\u001b[1;32m     61\u001b[0m \u001b[39mself\u001b[39m\u001b[39m.\u001b[39moptimizer\u001b[39m.\u001b[39mzero_grad()\n\u001b[1;32m     62\u001b[0m loss\u001b[39m.\u001b[39mbackward()\n\u001b[0;32m---> 63\u001b[0m \u001b[39mself\u001b[39;49m\u001b[39m.\u001b[39;49moptimizer\u001b[39m.\u001b[39;49mstep()\n\u001b[1;32m     64\u001b[0m pred_tokens\u001b[39m=\u001b[39m[\u001b[39mself\u001b[39m\u001b[39m.\u001b[39mtgt_vocab\u001b[39m.\u001b[39mlookup_tokens(tokens) \u001b[39mfor\u001b[39;00m tokens \u001b[39min\u001b[39;00m preds[\u001b[39m1\u001b[39m:]\u001b[39m.\u001b[39mt()\u001b[39m.\u001b[39mtolist()]\n\u001b[1;32m     65\u001b[0m target_tokens\u001b[39m=\u001b[39m[[\u001b[39mself\u001b[39m\u001b[39m.\u001b[39mtgt_vocab\u001b[39m.\u001b[39mlookup_tokens(tokens)] \u001b[39mfor\u001b[39;00m tokens \u001b[39min\u001b[39;00m target\u001b[39m.\u001b[39mt()\u001b[39m.\u001b[39mtolist()]\n",
      "File \u001b[0;32m~/miniconda3/envs/practice/lib/python3.11/site-packages/torch/optim/optimizer.py:280\u001b[0m, in \u001b[0;36mOptimizer.profile_hook_step.<locals>.wrapper\u001b[0;34m(*args, **kwargs)\u001b[0m\n\u001b[1;32m    276\u001b[0m         \u001b[39melse\u001b[39;00m:\n\u001b[1;32m    277\u001b[0m             \u001b[39mraise\u001b[39;00m \u001b[39mRuntimeError\u001b[39;00m(\u001b[39mf\u001b[39m\u001b[39m\"\u001b[39m\u001b[39m{\u001b[39;00mfunc\u001b[39m}\u001b[39;00m\u001b[39m must return None or a tuple of (new_args, new_kwargs),\u001b[39m\u001b[39m\"\u001b[39m\n\u001b[1;32m    278\u001b[0m                                \u001b[39mf\u001b[39m\u001b[39m\"\u001b[39m\u001b[39mbut got \u001b[39m\u001b[39m{\u001b[39;00mresult\u001b[39m}\u001b[39;00m\u001b[39m.\u001b[39m\u001b[39m\"\u001b[39m)\n\u001b[0;32m--> 280\u001b[0m out \u001b[39m=\u001b[39m func(\u001b[39m*\u001b[39;49margs, \u001b[39m*\u001b[39;49m\u001b[39m*\u001b[39;49mkwargs)\n\u001b[1;32m    281\u001b[0m \u001b[39mself\u001b[39m\u001b[39m.\u001b[39m_optimizer_step_code()\n\u001b[1;32m    283\u001b[0m \u001b[39m# call optimizer step post hooks\u001b[39;00m\n",
      "File \u001b[0;32m~/miniconda3/envs/practice/lib/python3.11/site-packages/torch/optim/optimizer.py:33\u001b[0m, in \u001b[0;36m_use_grad_for_differentiable.<locals>._use_grad\u001b[0;34m(self, *args, **kwargs)\u001b[0m\n\u001b[1;32m     31\u001b[0m \u001b[39mtry\u001b[39;00m:\n\u001b[1;32m     32\u001b[0m     torch\u001b[39m.\u001b[39mset_grad_enabled(\u001b[39mself\u001b[39m\u001b[39m.\u001b[39mdefaults[\u001b[39m'\u001b[39m\u001b[39mdifferentiable\u001b[39m\u001b[39m'\u001b[39m])\n\u001b[0;32m---> 33\u001b[0m     ret \u001b[39m=\u001b[39m func(\u001b[39mself\u001b[39;49m, \u001b[39m*\u001b[39;49margs, \u001b[39m*\u001b[39;49m\u001b[39m*\u001b[39;49mkwargs)\n\u001b[1;32m     34\u001b[0m \u001b[39mfinally\u001b[39;00m:\n\u001b[1;32m     35\u001b[0m     torch\u001b[39m.\u001b[39mset_grad_enabled(prev_grad)\n",
      "File \u001b[0;32m~/miniconda3/envs/practice/lib/python3.11/site-packages/torch/optim/adam.py:141\u001b[0m, in \u001b[0;36mAdam.step\u001b[0;34m(self, closure)\u001b[0m\n\u001b[1;32m    130\u001b[0m     beta1, beta2 \u001b[39m=\u001b[39m group[\u001b[39m'\u001b[39m\u001b[39mbetas\u001b[39m\u001b[39m'\u001b[39m]\n\u001b[1;32m    132\u001b[0m     \u001b[39mself\u001b[39m\u001b[39m.\u001b[39m_init_group(\n\u001b[1;32m    133\u001b[0m         group,\n\u001b[1;32m    134\u001b[0m         params_with_grad,\n\u001b[0;32m   (...)\u001b[0m\n\u001b[1;32m    138\u001b[0m         max_exp_avg_sqs,\n\u001b[1;32m    139\u001b[0m         state_steps)\n\u001b[0;32m--> 141\u001b[0m     adam(\n\u001b[1;32m    142\u001b[0m         params_with_grad,\n\u001b[1;32m    143\u001b[0m         grads,\n\u001b[1;32m    144\u001b[0m         exp_avgs,\n\u001b[1;32m    145\u001b[0m         exp_avg_sqs,\n\u001b[1;32m    146\u001b[0m         max_exp_avg_sqs,\n\u001b[1;32m    147\u001b[0m         state_steps,\n\u001b[1;32m    148\u001b[0m         amsgrad\u001b[39m=\u001b[39;49mgroup[\u001b[39m'\u001b[39;49m\u001b[39mamsgrad\u001b[39;49m\u001b[39m'\u001b[39;49m],\n\u001b[1;32m    149\u001b[0m         beta1\u001b[39m=\u001b[39;49mbeta1,\n\u001b[1;32m    150\u001b[0m         beta2\u001b[39m=\u001b[39;49mbeta2,\n\u001b[1;32m    151\u001b[0m         lr\u001b[39m=\u001b[39;49mgroup[\u001b[39m'\u001b[39;49m\u001b[39mlr\u001b[39;49m\u001b[39m'\u001b[39;49m],\n\u001b[1;32m    152\u001b[0m         weight_decay\u001b[39m=\u001b[39;49mgroup[\u001b[39m'\u001b[39;49m\u001b[39mweight_decay\u001b[39;49m\u001b[39m'\u001b[39;49m],\n\u001b[1;32m    153\u001b[0m         eps\u001b[39m=\u001b[39;49mgroup[\u001b[39m'\u001b[39;49m\u001b[39meps\u001b[39;49m\u001b[39m'\u001b[39;49m],\n\u001b[1;32m    154\u001b[0m         maximize\u001b[39m=\u001b[39;49mgroup[\u001b[39m'\u001b[39;49m\u001b[39mmaximize\u001b[39;49m\u001b[39m'\u001b[39;49m],\n\u001b[1;32m    155\u001b[0m         foreach\u001b[39m=\u001b[39;49mgroup[\u001b[39m'\u001b[39;49m\u001b[39mforeach\u001b[39;49m\u001b[39m'\u001b[39;49m],\n\u001b[1;32m    156\u001b[0m         capturable\u001b[39m=\u001b[39;49mgroup[\u001b[39m'\u001b[39;49m\u001b[39mcapturable\u001b[39;49m\u001b[39m'\u001b[39;49m],\n\u001b[1;32m    157\u001b[0m         differentiable\u001b[39m=\u001b[39;49mgroup[\u001b[39m'\u001b[39;49m\u001b[39mdifferentiable\u001b[39;49m\u001b[39m'\u001b[39;49m],\n\u001b[1;32m    158\u001b[0m         fused\u001b[39m=\u001b[39;49mgroup[\u001b[39m'\u001b[39;49m\u001b[39mfused\u001b[39;49m\u001b[39m'\u001b[39;49m],\n\u001b[1;32m    159\u001b[0m         grad_scale\u001b[39m=\u001b[39;49m\u001b[39mgetattr\u001b[39;49m(\u001b[39mself\u001b[39;49m, \u001b[39m\"\u001b[39;49m\u001b[39mgrad_scale\u001b[39;49m\u001b[39m\"\u001b[39;49m, \u001b[39mNone\u001b[39;49;00m),\n\u001b[1;32m    160\u001b[0m         found_inf\u001b[39m=\u001b[39;49m\u001b[39mgetattr\u001b[39;49m(\u001b[39mself\u001b[39;49m, \u001b[39m\"\u001b[39;49m\u001b[39mfound_inf\u001b[39;49m\u001b[39m\"\u001b[39;49m, \u001b[39mNone\u001b[39;49;00m),\n\u001b[1;32m    161\u001b[0m     )\n\u001b[1;32m    163\u001b[0m \u001b[39mreturn\u001b[39;00m loss\n",
      "File \u001b[0;32m~/miniconda3/envs/practice/lib/python3.11/site-packages/torch/optim/adam.py:281\u001b[0m, in \u001b[0;36madam\u001b[0;34m(params, grads, exp_avgs, exp_avg_sqs, max_exp_avg_sqs, state_steps, foreach, capturable, differentiable, fused, grad_scale, found_inf, amsgrad, beta1, beta2, lr, weight_decay, eps, maximize)\u001b[0m\n\u001b[1;32m    278\u001b[0m \u001b[39melse\u001b[39;00m:\n\u001b[1;32m    279\u001b[0m     func \u001b[39m=\u001b[39m _single_tensor_adam\n\u001b[0;32m--> 281\u001b[0m func(params,\n\u001b[1;32m    282\u001b[0m      grads,\n\u001b[1;32m    283\u001b[0m      exp_avgs,\n\u001b[1;32m    284\u001b[0m      exp_avg_sqs,\n\u001b[1;32m    285\u001b[0m      max_exp_avg_sqs,\n\u001b[1;32m    286\u001b[0m      state_steps,\n\u001b[1;32m    287\u001b[0m      amsgrad\u001b[39m=\u001b[39;49mamsgrad,\n\u001b[1;32m    288\u001b[0m      beta1\u001b[39m=\u001b[39;49mbeta1,\n\u001b[1;32m    289\u001b[0m      beta2\u001b[39m=\u001b[39;49mbeta2,\n\u001b[1;32m    290\u001b[0m      lr\u001b[39m=\u001b[39;49mlr,\n\u001b[1;32m    291\u001b[0m      weight_decay\u001b[39m=\u001b[39;49mweight_decay,\n\u001b[1;32m    292\u001b[0m      eps\u001b[39m=\u001b[39;49meps,\n\u001b[1;32m    293\u001b[0m      maximize\u001b[39m=\u001b[39;49mmaximize,\n\u001b[1;32m    294\u001b[0m      capturable\u001b[39m=\u001b[39;49mcapturable,\n\u001b[1;32m    295\u001b[0m      differentiable\u001b[39m=\u001b[39;49mdifferentiable,\n\u001b[1;32m    296\u001b[0m      grad_scale\u001b[39m=\u001b[39;49mgrad_scale,\n\u001b[1;32m    297\u001b[0m      found_inf\u001b[39m=\u001b[39;49mfound_inf)\n",
      "File \u001b[0;32m~/miniconda3/envs/practice/lib/python3.11/site-packages/torch/optim/adam.py:391\u001b[0m, in \u001b[0;36m_single_tensor_adam\u001b[0;34m(params, grads, exp_avgs, exp_avg_sqs, max_exp_avg_sqs, state_steps, grad_scale, found_inf, amsgrad, beta1, beta2, lr, weight_decay, eps, maximize, capturable, differentiable)\u001b[0m\n\u001b[1;32m    389\u001b[0m     denom \u001b[39m=\u001b[39m (max_exp_avg_sqs[i]\u001b[39m.\u001b[39msqrt() \u001b[39m/\u001b[39m bias_correction2_sqrt)\u001b[39m.\u001b[39madd_(eps)\n\u001b[1;32m    390\u001b[0m \u001b[39melse\u001b[39;00m:\n\u001b[0;32m--> 391\u001b[0m     denom \u001b[39m=\u001b[39m (exp_avg_sq\u001b[39m.\u001b[39;49msqrt() \u001b[39m/\u001b[39;49m bias_correction2_sqrt)\u001b[39m.\u001b[39;49madd_(eps)\n\u001b[1;32m    393\u001b[0m param\u001b[39m.\u001b[39maddcdiv_(exp_avg, denom, value\u001b[39m=\u001b[39m\u001b[39m-\u001b[39mstep_size)\n",
      "\u001b[0;31mKeyboardInterrupt\u001b[0m: "
     ]
    }
   ],
   "source": [
    "trainer.train(train_loader,val_loader,\"results\")"
   ]
  }
 ],
 "metadata": {
  "kernelspec": {
   "display_name": "practice",
   "language": "python",
   "name": "python3"
  },
  "language_info": {
   "codemirror_mode": {
    "name": "ipython",
    "version": 3
   },
   "file_extension": ".py",
   "mimetype": "text/x-python",
   "name": "python",
   "nbconvert_exporter": "python",
   "pygments_lexer": "ipython3",
   "version": "3.11.3"
  },
  "orig_nbformat": 4
 },
 "nbformat": 4,
 "nbformat_minor": 2
}
