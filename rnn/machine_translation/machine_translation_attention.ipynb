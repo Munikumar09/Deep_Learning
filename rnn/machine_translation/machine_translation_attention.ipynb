{
 "cells": [
  {
   "cell_type": "code",
   "execution_count": 1,
   "metadata": {},
   "outputs": [],
   "source": [
    "import torch.nn as nn\n",
    "import torch\n",
    "from itertools import chain\n",
    "from collections import Counter\n",
    "from torchtext.vocab import vocab\n",
    "from torch.utils.data import Dataset,random_split,DataLoader\n",
    "import random\n",
    "from torch.nn.utils.rnn import pad_sequence\n",
    "from functools import partial\n",
    "import os\n",
    "import json\n",
    "from tqdm import tqdm\n",
    "from torchtext.data.metrics import bleu_score\n",
    "from torch.utils.tensorboard import SummaryWriter"
   ]
  },
  {
   "cell_type": "code",
   "execution_count": 2,
   "metadata": {},
   "outputs": [],
   "source": [
    "num_epochs=25\n",
    "learning_rate=0.001\n",
    "batch_size=256"
   ]
  },
  {
   "cell_type": "code",
   "execution_count": 3,
   "metadata": {},
   "outputs": [],
   "source": [
    "def preprocess(data):\n",
    "    data=data.replace(\"\\u202f\",\" \").replace(\"\\xa0\",\" \").replace(\"\\u2009\",\" \")\n",
    "    no_space=lambda char,prev_char: char in \",.!?\" and prev_char !=' '\n",
    "    out=[' '+char if i>0 and no_space(char,data[i-1]) else char\n",
    "            for i,char in enumerate(data)]\n",
    "    out=''.join(out)\n",
    "    out=[\"\\t\".join(sentence.split(\"\\t\")[:2]) for sentence in out.split('\\n')]\n",
    "    out='\\n'.join(out)\n",
    "    return out"
   ]
  },
  {
   "cell_type": "code",
   "execution_count": 4,
   "metadata": {},
   "outputs": [],
   "source": [
    "def build_vocab(list_tokens):\n",
    "    tokens=sorted(chain.from_iterable((list_tokens)))\n",
    "    token_freq=Counter(tokens)\n",
    "    vocabulary=vocab(token_freq,specials=['<unk>','<pad>'])\n",
    "    vocabulary.set_default_index(0)\n",
    "    return vocabulary\n",
    "    "
   ]
  },
  {
   "cell_type": "code",
   "execution_count": 5,
   "metadata": {},
   "outputs": [],
   "source": [
    "def tokenizer(text):\n",
    "    return [token for token in f\"<sos> {text} <eos>\".split(\" \") if token]"
   ]
  },
  {
   "cell_type": "code",
   "execution_count": 6,
   "metadata": {},
   "outputs": [],
   "source": [
    "def separate_src_tgt(data,max_samples=None):\n",
    "    src=[]\n",
    "    tgt=[]\n",
    "    for i,text in enumerate(data):\n",
    "        if max_samples and i> max_samples:break\n",
    "        parts= text.split('\\t')\n",
    "        if len(parts)==2:\n",
    "            src.append(tokenizer(parts[0]))\n",
    "            tgt.append(tokenizer(parts[1]))\n",
    "    return src,tgt\n",
    "    "
   ]
  },
  {
   "cell_type": "code",
   "execution_count": 7,
   "metadata": {},
   "outputs": [],
   "source": [
    "class CustomDataset(Dataset):\n",
    "    def __init__(self,dataset) -> None:\n",
    "        super().__init__()\n",
    "        self.src_data=dataset[0]\n",
    "        self.tgt_data=dataset[1]\n",
    "    def __len__(self):\n",
    "        return len(self.src_data)\n",
    "    def __getitem__(self, index):\n",
    "        return self.src_data[index],self.tgt_data[index]"
   ]
  },
  {
   "cell_type": "code",
   "execution_count": 8,
   "metadata": {},
   "outputs": [],
   "source": [
    "def data_process_pipeline(data,eng_vocab=None,fra_vocab=None):\n",
    "    src,tgt=separate_src_tgt(data)\n",
    "    if eng_vocab is None:\n",
    "        eng_vocab=build_vocab(src)\n",
    "        fra_vocab=build_vocab(tgt)\n",
    "    src_idx=[eng_vocab.forward(sent) for sent in src]\n",
    "    tgt_idx=[fra_vocab.forward(sent) for sent in tgt]\n",
    "    train_dataset=CustomDataset((src_idx,tgt_idx))\n",
    "    return train_dataset,eng_vocab,fra_vocab"
   ]
  },
  {
   "cell_type": "code",
   "execution_count": 9,
   "metadata": {},
   "outputs": [],
   "source": [
    "def train_test_split(dataset,train_percent):\n",
    "    train_size=int(len(dataset)*train_percent)\n",
    "    train_data=dataset[:train_size]\n",
    "    test_data=dataset[train_size:]\n",
    "    return train_data,test_data\n",
    "    "
   ]
  },
  {
   "cell_type": "code",
   "execution_count": 10,
   "metadata": {},
   "outputs": [],
   "source": [
    "def load_data(data_path,train_size):\n",
    "    with open(data_path,'r',encoding=\"utf-8\") as fp:\n",
    "        data=fp.read()\n",
    "    clean_data=preprocess(data)\n",
    "    sent_list=[sent for sent in clean_data.split(\"\\n\") if len(sent)>0]\n",
    "    sorted_sent_list=sorted(sent_list,key=lambda x: len(x.split('\\t')[0].split(' ')))\n",
    "    train_data,test_data=train_test_split(sorted_sent_list,train_size)\n",
    "    return train_data,test_data"
   ]
  },
  {
   "cell_type": "code",
   "execution_count": 11,
   "metadata": {},
   "outputs": [],
   "source": [
    "raw_train_data,raw_val_data=load_data(\"data/fra.txt\",0.8)"
   ]
  },
  {
   "cell_type": "code",
   "execution_count": 12,
   "metadata": {},
   "outputs": [],
   "source": [
    "train_data,eng_vocab,fra_vocab=data_process_pipeline(raw_train_data)\n",
    "val_data,_,_=data_process_pipeline(raw_val_data,)\n"
   ]
  },
  {
   "cell_type": "code",
   "execution_count": 13,
   "metadata": {},
   "outputs": [],
   "source": [
    "def collate_fn(train_data,src_pad_val,tgt_pad_val):\n",
    "    src_data=[torch.LongTensor(src[0]) for src in train_data]\n",
    "    tgt_data=[torch.LongTensor(tgt[1]) for tgt in train_data]\n",
    "    src_tensor=pad_sequence(src_data,padding_value=src_pad_val)\n",
    "    tgt_tensor=pad_sequence(tgt_data,padding_value=tgt_pad_val)\n",
    "    return src_tensor,tgt_tensor\n",
    "\n",
    "train_loader = DataLoader(train_data, batch_size=batch_size, num_workers=8, collate_fn=partial(collate_fn,src_pad_val=eng_vocab['<pad>'],tgt_pad_val=fra_vocab['<pad>']))\n",
    "val_loader=DataLoader(val_data,batch_size=batch_size, num_workers=8,collate_fn=partial(collate_fn,src_pad_val=eng_vocab['<pad>'],tgt_pad_val=fra_vocab['<pad>']))"
   ]
  },
  {
   "cell_type": "code",
   "execution_count": 14,
   "metadata": {},
   "outputs": [],
   "source": [
    "\n",
    "input_size_encoder=len(eng_vocab)\n",
    "input_size_decoder=len(fra_vocab)\n",
    "output_size_decoder=len(fra_vocab)\n",
    "encoder_embedding_size=300\n",
    "decoder_embedding_size=300\n",
    "hidden_size=1024\n",
    "encoder_n_layers=2\n",
    "decoder_n_layers=2\n",
    "encoder_dropout=0.5\n",
    "decoder_dropout=0.5\n",
    "teacher_forcing_ratio=0.5\n",
    "device=\"cuda\" if torch.cuda.is_available() else \"cpu\""
   ]
  },
  {
   "cell_type": "code",
   "execution_count": 15,
   "metadata": {},
   "outputs": [],
   "source": [
    "class Encoder(nn.Module):\n",
    "    def __init__(self,vocab_size,embed_size,hidden_size,num_layers,drop_prob):\n",
    "        super().__init__()\n",
    "        self.embed_layer=nn.Embedding(vocab_size,embed_size)\n",
    "        self.rnn=nn.LSTM(embed_size,hidden_size,num_layers,dropout=drop_prob,bidirectional=True)\n",
    "        self.fc_hidden=nn.Linear(hidden_size*2,hidden_size)\n",
    "        self.fc_cell=nn.Linear(hidden_size*2,hidden_size)\n",
    "    def forward(self,X):\n",
    "        embeddings=self.embed_layer(X)\n",
    "        #embeddings=[seq_len,batch_size,embed_size]\n",
    "        #embeddings=[4,64,300]\n",
    "        encoder_states,(hidden,cell)=self.rnn(embeddings)\n",
    "        \n",
    "        #encoder_states=[seq_len,batch_size,hidden_size*Directions]\n",
    "        #encoder_states=[4,64,1024]\n",
    "        #hidden=[num_layers*Directions,batch_size,hidden_size]\n",
    "        #4,64,1024\n",
    "        #cell=[num_layers*Directions,batch_size,hidden_size]\n",
    "        #4,64,1024\n",
    "        hidden=self.fc_hidden(torch.cat((hidden[0:2],hidden[2:4]),dim=2))\n",
    "        #2,64,1024\n",
    "        cell=self.fc_cell(torch.cat((cell[0:2],cell[2:4]),dim=2))\n",
    "        #2,64,1024\n",
    "        return encoder_states,hidden,cell"
   ]
  },
  {
   "cell_type": "code",
   "execution_count": 16,
   "metadata": {},
   "outputs": [],
   "source": [
    "class Decoder(nn.Module):\n",
    "    def __init__(self,vocab_size,embed_size,hidden_size,num_layers,drop_prob,output_size) -> None:\n",
    "        super().__init__()\n",
    "        self.embed=nn.Embedding(vocab_size,embed_size)\n",
    "        self.rnn=nn.LSTM(hidden_size*2+embed_size,hidden_size,num_layers=num_layers,dropout=drop_prob)\n",
    "        self.fc=nn.Linear(hidden_size,output_size)\n",
    "        self.energy=nn.Linear(hidden_size*4,1)\n",
    "        self.softmax=nn.Softmax(dim=0)\n",
    "        self.relu=nn.ReLU()\n",
    "    def forward(self,X,encoder_states,hidden,cell):\n",
    "        #X=[batch_size]\n",
    "        #encoder_states=[4,64,2048]\n",
    "        #hidden=[2,64,1024]\n",
    "        #cell=[2,64,1024]\n",
    "        #hidden=[1,64,2048]\n",
    "        X=X.unsqueeze(0)\n",
    "        #X=[1,batch_size]\n",
    "        embeddings=self.embed(X)\n",
    "        #embeddings=[1,batch_size,embed_size]\n",
    "        sequence_length=encoder_states.shape[0]\n",
    "        hidden_reshaped=torch.cat((hidden[0:1],hidden[1:2]),dim=2).repeat(sequence_length,1,1)\n",
    "        #hidden = [seq_len,batch,hidden_size]\n",
    "        # print(f\"hidden size{hidden.shape} encoder_states size {encoder_states.shape}\")\n",
    "        input_energy_format=torch.cat((hidden_reshaped,encoder_states),dim=2)\n",
    "        #4,64,4096\n",
    "        energy=self.relu(self.energy(input_energy_format))\n",
    "        #4,64,1\n",
    "        attention=self.softmax(energy)\n",
    "        #4,64,1\n",
    "        attention=attention.permute(1,2,0)\n",
    "        #64,1,4\n",
    "        encoder_states=encoder_states.permute(1,0,2)\n",
    "        #64,4,2048\n",
    "        context_vector=torch.bmm(attention,encoder_states).permute(1,0,2)\n",
    "        #1,64,2048\n",
    "        \n",
    "        rnn_input=torch.cat((context_vector,embeddings),dim=2)\n",
    "        #1,64,2348\n",
    "        outputs,(hidden,cell)=self.rnn(rnn_input,(hidden,cell))\n",
    "        \n",
    "        predictions=self.fc(outputs)\n",
    "        predictions=predictions.squeeze(0)\n",
    "        return predictions   "
   ]
  },
  {
   "cell_type": "code",
   "execution_count": 17,
   "metadata": {},
   "outputs": [],
   "source": [
    "class Seq2Seq(nn.Module):\n",
    "    def __init__(self,encoder,decoder) -> None:\n",
    "        super().__init__()\n",
    "        self.encoder=encoder\n",
    "        self.decoder=decoder\n",
    "    def forward(self,src,tgt,tgt_vocab_size,teacher_force_ratio):\n",
    "        \n",
    "        batch_size=src.shape[1]\n",
    "        target_len=tgt.shape[0]\n",
    "        outputs=torch.zeros((target_len,batch_size,tgt_vocab_size))\n",
    "        encoder_states,hidden,cell=self.encoder(src)\n",
    "        # print(encoder_states.shape,hidden.shape,cell.shape)\n",
    "        x=tgt[0]\n",
    "        for t in range(1,target_len):\n",
    "            output=self.decoder(x,encoder_states,hidden,cell)\n",
    "            outputs[t]=output\n",
    "            teacher_force=random.random()<teacher_force_ratio\n",
    "            top1=output.argmax(1)\n",
    "            x=tgt[t] if teacher_force else top1\n",
    "            \n",
    "        return outputs"
   ]
  },
  {
   "cell_type": "code",
   "execution_count": 18,
   "metadata": {},
   "outputs": [],
   "source": [
    "class Trainer:\n",
    "    def __init__(\n",
    "        self,\n",
    "        model,\n",
    "        num_epochs,\n",
    "        batch_size,\n",
    "        criterion,\n",
    "        optimizer,\n",
    "        learning_rate,\n",
    "        output_size_decoder,\n",
    "        teacher_forcing_ratio,\n",
    "        device,\n",
    "        print_stats,\n",
    "        tgt_vocab,\n",
    "        pred_pipeline,\n",
    "    ):\n",
    "        self.num_epochs = num_epochs\n",
    "        self.batch_size = batch_size\n",
    "        self.output_size_decoder=output_size_decoder\n",
    "        self.criterion = criterion\n",
    "        self.optimizer = optimizer\n",
    "        self.learning_rate = learning_rate\n",
    "        self.teacher_forcing_ratio = teacher_forcing_ratio\n",
    "        self.device = device\n",
    "        self.print_stats=print_stats\n",
    "        self.tgt_vocab=tgt_vocab\n",
    "        self.pred_pipeline=pred_pipeline\n",
    "        self.loss={\"train\":[],'val':[]}\n",
    "        self.bleu={\"train\":[],'val':[]}\n",
    "        self.model=model.to(device)\n",
    "        self.writer=SummaryWriter()\n",
    "    def train(self, train_loader, val_loader, save_path):\n",
    "        for epoch in range(self.num_epochs):\n",
    "            self._train_epoch(train_loader)\n",
    "            self._val_epoch(val_loader)\n",
    "            if self.print_stats:\n",
    "                print(f\"\\n###########{epoch}#############\\n\")\n",
    "                print(f\"train loss : {self.loss['train'][-1]}\\t val loss: {self.loss['val'][-1]}\")\n",
    "                print(f\"train bleu score : {self.bleu['train'][-1]} \\t val bleu score : {self.bleu['val'][-1]}\")\n",
    "                test_txt=\"In this story an old man sets out to ask an Indian king to dig some well in his village when their water runs dry\"\n",
    "                expected_translation=\"Dans cette histoire, un vieil homme entreprend de demander à un roi indien de creuser un puits dans son village lorsque leur eau sera à sec.\"\n",
    "                predicted_translation=self.transcribe(test_txt,self.pred_pipeline,50,189,self.tgt_vocab,188)\n",
    "                blue_score=bleu_score([predicted_translation[0].split()],[[expected_translation.split()]],max_n=2,weights=[0.5,0.5])\n",
    "                print(f\"expected translation : \\t {expected_translation}\")\n",
    "                print(f\"predicted trainslation : \\t{predicted_translation}\")\n",
    "                print(f\"bleu_score : {blue_score}\")\n",
    "                print(\"\\n-----------------------------------\\n\")\n",
    "                if epoch==0:\n",
    "                    with open(os.path.join(save_path,\"sample_bleu.json\"),\"w+\") as fp :\n",
    "                        json.dump({\"src text\":test_txt,\n",
    "                         \"results\":[]},fp)\n",
    "                with open(os.path.join(save_path,\"sample_bleu.json\"),\"r+\") as fp :\n",
    "                    result={\"expected tranlation \":expected_translation,\n",
    "                          \"predicted translation\":predicted_translation,\n",
    "                          \"bleu score \":blue_score,\n",
    "                          \"epoch\":epoch\n",
    "                          }\n",
    "                    prev_data=json.load(fp)\n",
    "                    prev_data[\"results\"].append(result)\n",
    "                    fp.seek(0)\n",
    "                    json.dump(prev_data,fp)\n",
    "            self.writer.add_scalar(\"train loss \",self.loss['train'][-1],epoch)\n",
    "            self.writer.add_scalar(\"val loss \",self.loss['val'][-1],epoch)\n",
    "            self.writer.add_scalar(\"train bleu \",self.bleu['train'][-1],epoch)\n",
    "            self.writer.add_scalar(\"val bleu \",self.bleu['val'][-1],epoch)\n",
    "        self.save_model(os.path.join(save_path,\"model.pt\"))\n",
    "        self.save_loss(os.path.join(save_path,\"loss.json\"))\n",
    "        self.save_loss(os.path.join(save_path,\"bleu.json\"))\n",
    "    def _train_epoch(self,train_loader):\n",
    "        i=0\n",
    "        epoch_loss=0\n",
    "        epoch_bleu=0\n",
    "        for batch_src,batch_tgt in tqdm(train_loader):\n",
    "            i+=1\n",
    "            source=batch_src.to(self.device)\n",
    "            target=batch_tgt.to(self.device)\n",
    "            outputs=self.model(source,target,self.output_size_decoder,self.teacher_forcing_ratio)\n",
    "            preds=outputs.argmax(-1)\n",
    "            outputs=outputs[1:].reshape(-1,outputs.shape[-1])\n",
    "            batch_tgt=batch_tgt[1:].reshape(-1)\n",
    "            loss=self.criterion(outputs,batch_tgt)\n",
    "            epoch_loss+=loss.item()\n",
    "            self.optimizer.zero_grad()\n",
    "            loss.backward()\n",
    "            self.optimizer.step()\n",
    "            pred_tokens=[self.tgt_vocab.lookup_tokens(tokens) for tokens in preds[1:].t().tolist()]\n",
    "            target_tokens=[[self.tgt_vocab.lookup_tokens(tokens)] for tokens in target.t().tolist()]\n",
    "            bleu=bleu_score(pred_tokens,target_tokens,max_n=2,weights=[0.5,0.5])\n",
    "            epoch_bleu+=bleu\n",
    "        self.loss['train'].append(epoch_loss/i)\n",
    "        self.bleu['train'].append(epoch_bleu/i)\n",
    "                \n",
    "            \n",
    "    def _val_epoch(self,val_loader):\n",
    "        i=0\n",
    "        epoch_bleu=0\n",
    "        epoch_loss=0\n",
    "        with torch.no_grad():\n",
    "            for batch_src,batch_tgt in tqdm(val_loader):\n",
    "                i+=1\n",
    "                source=batch_src.to(self.device)\n",
    "                target=batch_tgt.to(self.device)\n",
    "                outputs=self.model(source,target,self.output_size_decoder,self.teacher_forcing_ratio)\n",
    "                preds=outputs.argmax(-1)\n",
    "                outputs=outputs[1:].reshape(-1,outputs.shape[-1])\n",
    "                batch_tgt=batch_tgt[1:].reshape(-1)\n",
    "                loss=self.criterion(outputs,batch_tgt)\n",
    "                pred_tokens=[self.tgt_vocab.lookup_tokens(tokens) for tokens in preds[1:].t().tolist()]\n",
    "                target_tokens=[[self.tgt_vocab.lookup_tokens(tokens)] for tokens in target.t().tolist()]\n",
    "                bleu=bleu_score(pred_tokens,target_tokens,max_n=2,weights=[0.5,0.5])\n",
    "                epoch_bleu+=bleu\n",
    "                epoch_loss+=loss.item()\n",
    "        self.loss['val'].append(epoch_loss/i)\n",
    "        self.bleu['val'].append(epoch_bleu/i)\n",
    "    def save_model(self,save_path):\n",
    "        torch.save(self.model,save_path)\n",
    "    def save_loss(self,save_path):\n",
    "        with open(save_path,\"w\") as fp:\n",
    "            json.dump(self.loss,fp)\n",
    "    def save_bleu_score(self,save_path):\n",
    "        with open(save_path,'w') as fp:\n",
    "            json.dump(self.bleu,fp)\n",
    "    def transcribe(self,inputs,pipeline,max_tokens,start_token,tgt_vocab,end_token):\n",
    "        with torch.no_grad():\n",
    "            inputs=pipeline(inputs)\n",
    "            inputs=inputs.to(self.device)\n",
    "            encoder_states,hidden,cell=self.model.encoder(inputs)\n",
    "            output_tokens=[]\n",
    "            i=0\n",
    "            for i in range(inputs.shape[1]):\n",
    "                x=torch.LongTensor([start_token]).to(self.device)\n",
    "                current_output=[]\n",
    "                while True:\n",
    "                    predictions=self.model.decoder(x,encoder_states,hidden,cell)\n",
    "                    predictions=predictions.argmax(1)\n",
    "                    pred_tokens=tgt_vocab.lookup_token(predictions.item())\n",
    "                    current_output.append(pred_tokens)\n",
    "                    x=predictions\n",
    "                    if end_token==predictions or len(current_output)>=max_tokens:\n",
    "                        break\n",
    "                output_tokens.append(\" \".join(current_output))\n",
    "        return output_tokens"
   ]
  },
  {
   "cell_type": "code",
   "execution_count": 19,
   "metadata": {},
   "outputs": [],
   "source": [
    "encoder=Encoder(len(eng_vocab),embed_size=encoder_embedding_size,hidden_size=hidden_size,num_layers=encoder_n_layers,drop_prob=encoder_dropout)\n",
    "decoder=Decoder(len(fra_vocab),embed_size=decoder_embedding_size,hidden_size=hidden_size,num_layers=decoder_n_layers,drop_prob=decoder_dropout,output_size=len(fra_vocab))\n",
    "model=Seq2Seq(encoder=encoder,decoder=decoder)"
   ]
  },
  {
   "cell_type": "code",
   "execution_count": 20,
   "metadata": {},
   "outputs": [],
   "source": [
    "criterion=nn.CrossEntropyLoss(ignore_index=eng_vocab['<pad>'])\n",
    "optimizer=torch.optim.Adam(model.parameters(),lr=learning_rate)"
   ]
  },
  {
   "cell_type": "code",
   "execution_count": 21,
   "metadata": {},
   "outputs": [],
   "source": [
    "def predict_pipeline(txt):\n",
    "    if isinstance(txt,str):\n",
    "        txt=[txt]\n",
    "    sent_tokens=[tokenizer(tokens) for tokens in txt]\n",
    "    int_tokens=[eng_vocab.forward(tokens) for tokens in sent_tokens]\n",
    "    src_tensor=[torch.LongTensor(token_list) for token_list in int_tokens]\n",
    "    src=pad_sequence(src_tensor,padding_value=eng_vocab['<pad>'])\n",
    "    return src"
   ]
  },
  {
   "cell_type": "code",
   "execution_count": 22,
   "metadata": {},
   "outputs": [],
   "source": [
    "trainer=Trainer(model=model,num_epochs=num_epochs,batch_size=batch_size,criterion=criterion,optimizer=optimizer,learning_rate=learning_rate,output_size_decoder=len(fra_vocab),teacher_forcing_ratio=teacher_forcing_ratio,device=device,print_stats=True,tgt_vocab=fra_vocab,pred_pipeline=predict_pipeline)"
   ]
  },
  {
   "cell_type": "code",
   "execution_count": null,
   "metadata": {
    "tags": []
   },
   "outputs": [
    {
     "name": "stderr",
     "output_type": "stream",
     "text": [
      "100%|████████████████████████████████████████████████████████████████████████████████| 682/682 [16:57<00:00,  1.49s/it]\n",
      "100%|████████████████████████████████████████████████████████████████████████████████| 171/171 [01:49<00:00,  1.57it/s]\n"
     ]
    },
    {
     "name": "stdout",
     "output_type": "stream",
     "text": [
      "\n",
      "###########0#############\n",
      "\n",
      "train loss : 4.834526880745314\t val loss: 11.353723810430159\n",
      "train bleu score : 0.13305588507725327 \t val bleu score : 0.0\n",
      "expected translation : \t Dans cette histoire, un vieil homme entreprend de demander à un roi indien de creuser un puits dans son village lorsque leur eau sera à sec.\n",
      "predicted trainslation : \t['Un voiture . <eos>']\n",
      "bleu_score : 0.0\n",
      "\n",
      "-----------------------------------\n",
      "\n"
     ]
    },
    {
     "name": "stderr",
     "output_type": "stream",
     "text": [
      "100%|████████████████████████████████████████████████████████████████████████████████| 682/682 [17:13<00:00,  1.52s/it]\n",
      "100%|████████████████████████████████████████████████████████████████████████████████| 171/171 [01:49<00:00,  1.56it/s]\n"
     ]
    },
    {
     "name": "stdout",
     "output_type": "stream",
     "text": [
      "\n",
      "###########1#############\n",
      "\n",
      "train loss : 3.588101567061416\t val loss: 11.150528723733467\n",
      "train bleu score : 0.18829018407212164 \t val bleu score : 0.0\n",
      "expected translation : \t Dans cette histoire, un vieil homme entreprend de demander à un roi indien de creuser un puits dans son village lorsque leur eau sera à sec.\n",
      "predicted trainslation : \t['De une une histoire . <eos>']\n",
      "bleu_score : 0.0\n",
      "\n",
      "-----------------------------------\n",
      "\n"
     ]
    },
    {
     "name": "stderr",
     "output_type": "stream",
     "text": [
      "100%|████████████████████████████████████████████████████████████████████████████████| 682/682 [17:18<00:00,  1.52s/it]\n",
      "100%|████████████████████████████████████████████████████████████████████████████████| 171/171 [01:49<00:00,  1.56it/s]\n"
     ]
    },
    {
     "name": "stdout",
     "output_type": "stream",
     "text": [
      "\n",
      "###########2#############\n",
      "\n",
      "train loss : 2.687594021520307\t val loss: 12.585745738960846\n",
      "train bleu score : 0.24030360238723505 \t val bleu score : 1.5983758943043938e-05\n",
      "expected translation : \t Dans cette histoire, un vieil homme entreprend de demander à un roi indien de creuser un puits dans son village lorsque leur eau sera à sec.\n",
      "predicted trainslation : \t['Dans une histoire . <eos>']\n",
      "bleu_score : 0.0\n",
      "\n",
      "-----------------------------------\n",
      "\n"
     ]
    },
    {
     "name": "stderr",
     "output_type": "stream",
     "text": [
      "100%|████████████████████████████████████████████████████████████████████████████████| 682/682 [17:31<00:00,  1.54s/it]\n",
      "100%|████████████████████████████████████████████████████████████████████████████████| 171/171 [01:50<00:00,  1.55it/s]\n"
     ]
    },
    {
     "name": "stdout",
     "output_type": "stream",
     "text": [
      "\n",
      "###########3#############\n",
      "\n",
      "train loss : 2.0199654453660734\t val loss: 13.20143875322844\n",
      "train bleu score : 0.28762970350606637 \t val bleu score : 2.030052203266763e-05\n",
      "expected translation : \t Dans cette histoire, un vieil homme entreprend de demander à un roi indien de creuser un puits dans son village lorsque leur eau sera à sec.\n",
      "predicted trainslation : \t['Dans une vieille . <eos>']\n",
      "bleu_score : 0.0\n",
      "\n",
      "-----------------------------------\n",
      "\n"
     ]
    },
    {
     "name": "stderr",
     "output_type": "stream",
     "text": [
      "100%|████████████████████████████████████████████████████████████████████████████████| 682/682 [17:42<00:00,  1.56s/it]\n",
      "100%|████████████████████████████████████████████████████████████████████████████████| 171/171 [01:50<00:00,  1.55it/s]\n"
     ]
    },
    {
     "name": "stdout",
     "output_type": "stream",
     "text": [
      "\n",
      "###########4#############\n",
      "\n",
      "train loss : 1.5939023109300394\t val loss: 15.263689264219407\n",
      "train bleu score : 0.3269022472609948 \t val bleu score : 1.1240537705788899e-05\n",
      "expected translation : \t Dans cette histoire, un vieil homme entreprend de demander à un roi indien de creuser un puits dans son village lorsque leur eau sera à sec.\n",
      "predicted trainslation : \t['Dans une voiture . <eos>']\n",
      "bleu_score : 0.0\n",
      "\n",
      "-----------------------------------\n",
      "\n"
     ]
    },
    {
     "name": "stderr",
     "output_type": "stream",
     "text": [
      "100%|████████████████████████████████████████████████████████████████████████████████| 682/682 [17:40<00:00,  1.56s/it]\n",
      "100%|████████████████████████████████████████████████████████████████████████████████| 171/171 [01:50<00:00,  1.55it/s]\n"
     ]
    },
    {
     "name": "stdout",
     "output_type": "stream",
     "text": [
      "\n",
      "###########5#############\n",
      "\n",
      "train loss : 1.3521030036585073\t val loss: 15.719273271616439\n",
      "train bleu score : 0.35518097559352474 \t val bleu score : 8.133893256914562e-06\n",
      "expected translation : \t Dans cette histoire, un vieil homme entreprend de demander à un roi indien de creuser un puits dans son village lorsque leur eau sera à sec.\n",
      "predicted trainslation : \t['Dans une histoire . <eos>']\n",
      "bleu_score : 0.0\n",
      "\n",
      "-----------------------------------\n",
      "\n"
     ]
    },
    {
     "name": "stderr",
     "output_type": "stream",
     "text": [
      "100%|████████████████████████████████████████████████████████████████████████████████| 682/682 [17:36<00:00,  1.55s/it]\n",
      "100%|████████████████████████████████████████████████████████████████████████████████| 171/171 [01:49<00:00,  1.56it/s]\n"
     ]
    },
    {
     "name": "stdout",
     "output_type": "stream",
     "text": [
      "\n",
      "###########6#############\n",
      "\n",
      "train loss : 1.1772216611768493\t val loss: 16.708558595668503\n",
      "train bleu score : 0.375924355957872 \t val bleu score : 5.223873062897026e-06\n",
      "expected translation : \t Dans cette histoire, un vieil homme entreprend de demander à un roi indien de creuser un puits dans son village lorsque leur eau sera à sec.\n",
      "predicted trainslation : \t[\"Dans quel homme d'une autre idée . <eos>\"]\n",
      "bleu_score : 0.0\n",
      "\n",
      "-----------------------------------\n",
      "\n"
     ]
    },
    {
     "name": "stderr",
     "output_type": "stream",
     "text": [
      "100%|████████████████████████████████████████████████████████████████████████████████| 682/682 [17:42<00:00,  1.56s/it]\n",
      "100%|████████████████████████████████████████████████████████████████████████████████| 171/171 [01:50<00:00,  1.55it/s]\n"
     ]
    },
    {
     "name": "stdout",
     "output_type": "stream",
     "text": [
      "\n",
      "###########7#############\n",
      "\n",
      "train loss : 1.0569782269315635\t val loss: 16.827799596284564\n",
      "train bleu score : 0.39214511524561557 \t val bleu score : 0.0\n",
      "expected translation : \t Dans cette histoire, un vieil homme entreprend de demander à un roi indien de creuser un puits dans son village lorsque leur eau sera à sec.\n",
      "predicted trainslation : \t['Dans quel vieux . <eos>']\n",
      "bleu_score : 0.0\n",
      "\n",
      "-----------------------------------\n",
      "\n"
     ]
    },
    {
     "name": "stderr",
     "output_type": "stream",
     "text": [
      "100%|████████████████████████████████████████████████████████████████████████████████| 682/682 [17:45<00:00,  1.56s/it]\n",
      "100%|████████████████████████████████████████████████████████████████████████████████| 171/171 [01:49<00:00,  1.56it/s]\n"
     ]
    },
    {
     "name": "stdout",
     "output_type": "stream",
     "text": [
      "\n",
      "###########8#############\n",
      "\n",
      "train loss : 0.9672028258486577\t val loss: 17.279570607414023\n",
      "train bleu score : 0.40464934064756497 \t val bleu score : 9.444835418867154e-06\n",
      "expected translation : \t Dans cette histoire, un vieil homme entreprend de demander à un roi indien de creuser un puits dans son village lorsque leur eau sera à sec.\n",
      "predicted trainslation : \t['Dans quel mot . <eos>']\n",
      "bleu_score : 0.0\n",
      "\n",
      "-----------------------------------\n",
      "\n"
     ]
    },
    {
     "name": "stderr",
     "output_type": "stream",
     "text": [
      "100%|████████████████████████████████████████████████████████████████████████████████| 682/682 [17:43<00:00,  1.56s/it]\n",
      "100%|████████████████████████████████████████████████████████████████████████████████| 171/171 [01:50<00:00,  1.55it/s]\n"
     ]
    },
    {
     "name": "stdout",
     "output_type": "stream",
     "text": [
      "\n",
      "###########9#############\n",
      "\n",
      "train loss : 0.8772203335401949\t val loss: 16.761161854392604\n",
      "train bleu score : 0.41599780617808074 \t val bleu score : 0.0\n",
      "expected translation : \t Dans cette histoire, un vieil homme entreprend de demander à un roi indien de creuser un puits dans son village lorsque leur eau sera à sec.\n",
      "predicted trainslation : \t['Dans ce mot . <eos>']\n",
      "bleu_score : 0.0\n",
      "\n",
      "-----------------------------------\n",
      "\n"
     ]
    },
    {
     "name": "stderr",
     "output_type": "stream",
     "text": [
      "100%|████████████████████████████████████████████████████████████████████████████████| 682/682 [17:43<00:00,  1.56s/it]\n",
      "100%|████████████████████████████████████████████████████████████████████████████████| 171/171 [01:50<00:00,  1.54it/s]\n"
     ]
    },
    {
     "name": "stdout",
     "output_type": "stream",
     "text": [
      "\n",
      "###########10#############\n",
      "\n",
      "train loss : 0.8218364840553652\t val loss: 16.88570699636002\n",
      "train bleu score : 0.42423655295388574 \t val bleu score : 6.833336679395221e-06\n",
      "expected translation : \t Dans cette histoire, un vieil homme entreprend de demander à un roi indien de creuser un puits dans son village lorsque leur eau sera à sec.\n",
      "predicted trainslation : \t['Dans une histoire . <eos>']\n",
      "bleu_score : 0.0\n",
      "\n",
      "-----------------------------------\n",
      "\n"
     ]
    },
    {
     "name": "stderr",
     "output_type": "stream",
     "text": [
      "100%|████████████████████████████████████████████████████████████████████████████████| 682/682 [18:04<00:00,  1.59s/it]\n",
      "100%|████████████████████████████████████████████████████████████████████████████████| 171/171 [01:50<00:00,  1.55it/s]\n"
     ]
    },
    {
     "name": "stdout",
     "output_type": "stream",
     "text": [
      "\n",
      "###########11#############\n",
      "\n",
      "train loss : 0.7689772575132309\t val loss: 17.21592580784134\n",
      "train bleu score : 0.43073539847918796 \t val bleu score : 8.792664097860152e-06\n",
      "expected translation : \t Dans cette histoire, un vieil homme entreprend de demander à un roi indien de creuser un puits dans son village lorsque leur eau sera à sec.\n",
      "predicted trainslation : \t['Dans quel mot . <eos>']\n",
      "bleu_score : 0.0\n",
      "\n",
      "-----------------------------------\n",
      "\n"
     ]
    },
    {
     "name": "stderr",
     "output_type": "stream",
     "text": [
      "100%|████████████████████████████████████████████████████████████████████████████████| 682/682 [18:09<00:00,  1.60s/it]\n",
      "100%|████████████████████████████████████████████████████████████████████████████████| 171/171 [01:52<00:00,  1.52it/s]\n"
     ]
    },
    {
     "name": "stdout",
     "output_type": "stream",
     "text": [
      "\n",
      "###########12#############\n",
      "\n",
      "train loss : 0.7370818724904942\t val loss: 18.06215963307877\n",
      "train bleu score : 0.4365387925421611 \t val bleu score : 0.0\n",
      "expected translation : \t Dans cette histoire, un vieil homme entreprend de demander à un roi indien de creuser un puits dans son village lorsque leur eau sera à sec.\n",
      "predicted trainslation : \t[\"C'est une autre idée pour une autre homme a une autre idée . <eos>\"]\n",
      "bleu_score : 0.0\n",
      "\n",
      "-----------------------------------\n",
      "\n"
     ]
    },
    {
     "name": "stderr",
     "output_type": "stream",
     "text": [
      "100%|████████████████████████████████████████████████████████████████████████████████| 682/682 [18:15<00:00,  1.61s/it]\n",
      "100%|████████████████████████████████████████████████████████████████████████████████| 171/171 [01:52<00:00,  1.53it/s]\n"
     ]
    },
    {
     "name": "stdout",
     "output_type": "stream",
     "text": [
      "\n",
      "###########13#############\n",
      "\n",
      "train loss : 0.7061815064760947\t val loss: 18.695564894648324\n",
      "train bleu score : 0.4405279704765313 \t val bleu score : 0.0\n",
      "expected translation : \t Dans cette histoire, un vieil homme entreprend de demander à un roi indien de creuser un puits dans son village lorsque leur eau sera à sec.\n",
      "predicted trainslation : \t['Quel autre histoire . <eos>']\n",
      "bleu_score : 0.0\n",
      "\n",
      "-----------------------------------\n",
      "\n"
     ]
    },
    {
     "name": "stderr",
     "output_type": "stream",
     "text": [
      "100%|████████████████████████████████████████████████████████████████████████████████| 682/682 [18:09<00:00,  1.60s/it]\n",
      "100%|████████████████████████████████████████████████████████████████████████████████| 171/171 [01:51<00:00,  1.53it/s]\n"
     ]
    },
    {
     "name": "stdout",
     "output_type": "stream",
     "text": [
      "\n",
      "###########14#############\n",
      "\n",
      "train loss : 0.6814692302708052\t val loss: 18.725468964604605\n",
      "train bleu score : 0.4446548887026767 \t val bleu score : 1.6870030927469047e-05\n",
      "expected translation : \t Dans cette histoire, un vieil homme entreprend de demander à un roi indien de creuser un puits dans son village lorsque leur eau sera à sec.\n",
      "predicted trainslation : \t['Dans une . <eos>']\n",
      "bleu_score : 0.0\n",
      "\n",
      "-----------------------------------\n",
      "\n"
     ]
    },
    {
     "name": "stderr",
     "output_type": "stream",
     "text": [
      "100%|████████████████████████████████████████████████████████████████████████████████| 682/682 [18:17<00:00,  1.61s/it]\n",
      "100%|████████████████████████████████████████████████████████████████████████████████| 171/171 [01:56<00:00,  1.47it/s]\n"
     ]
    },
    {
     "name": "stdout",
     "output_type": "stream",
     "text": [
      "\n",
      "###########15#############\n",
      "\n",
      "train loss : 0.6416108719458329\t val loss: 17.83846754776804\n",
      "train bleu score : 0.44920583640958867 \t val bleu score : 5.314904450031101e-06\n",
      "expected translation : \t Dans cette histoire, un vieil homme entreprend de demander à un roi indien de creuser un puits dans son village lorsque leur eau sera à sec.\n",
      "predicted trainslation : \t['Peu une histoire à une histoire . <eos>']\n",
      "bleu_score : 0.0\n",
      "\n",
      "-----------------------------------\n",
      "\n"
     ]
    },
    {
     "name": "stderr",
     "output_type": "stream",
     "text": [
      "100%|████████████████████████████████████████████████████████████████████████████████| 682/682 [18:07<00:00,  1.60s/it]\n",
      "100%|████████████████████████████████████████████████████████████████████████████████| 171/171 [01:49<00:00,  1.57it/s]\n"
     ]
    },
    {
     "name": "stdout",
     "output_type": "stream",
     "text": [
      "\n",
      "###########16#############\n",
      "\n",
      "train loss : 0.64136017944194\t val loss: 17.41644959700735\n",
      "train bleu score : 0.4505131960893843 \t val bleu score : 4.687630232107313e-06\n",
      "expected translation : \t Dans cette histoire, un vieil homme entreprend de demander à un roi indien de creuser un puits dans son village lorsque leur eau sera à sec.\n",
      "predicted trainslation : \t['Dans cette voiture . <eos>']\n",
      "bleu_score : 0.004742017726198676\n",
      "\n",
      "-----------------------------------\n",
      "\n"
     ]
    },
    {
     "name": "stderr",
     "output_type": "stream",
     "text": [
      "100%|████████████████████████████████████████████████████████████████████████████████| 682/682 [17:26<00:00,  1.53s/it]\n",
      "100%|████████████████████████████████████████████████████████████████████████████████| 171/171 [01:50<00:00,  1.55it/s]\n"
     ]
    },
    {
     "name": "stdout",
     "output_type": "stream",
     "text": [
      "\n",
      "###########17#############\n",
      "\n",
      "train loss : 0.6180036042617563\t val loss: 17.42315179702134\n",
      "train bleu score : 0.45348402141580224 \t val bleu score : 7.0314456711043844e-06\n",
      "expected translation : \t Dans cette histoire, un vieil homme entreprend de demander à un roi indien de creuser un puits dans son village lorsque leur eau sera à sec.\n",
      "predicted trainslation : \t[\"C'est une histoire . <eos>\"]\n",
      "bleu_score : 0.0\n",
      "\n",
      "-----------------------------------\n",
      "\n"
     ]
    },
    {
     "name": "stderr",
     "output_type": "stream",
     "text": [
      "100%|████████████████████████████████████████████████████████████████████████████████| 682/682 [17:41<00:00,  1.56s/it]\n",
      "100%|████████████████████████████████████████████████████████████████████████████████| 171/171 [01:50<00:00,  1.55it/s]\n"
     ]
    },
    {
     "name": "stdout",
     "output_type": "stream",
     "text": [
      "\n",
      "###########18#############\n",
      "\n",
      "train loss : 0.6021501658555349\t val loss: 17.422008313630755\n",
      "train bleu score : 0.45586781437863316 \t val bleu score : 1.1220084569743248e-05\n",
      "expected translation : \t Dans cette histoire, un vieil homme entreprend de demander à un roi indien de creuser un puits dans son village lorsque leur eau sera à sec.\n",
      "predicted trainslation : \t['Quel histoire . <eos>']\n",
      "bleu_score : 0.0\n",
      "\n",
      "-----------------------------------\n",
      "\n"
     ]
    },
    {
     "name": "stderr",
     "output_type": "stream",
     "text": [
      "100%|████████████████████████████████████████████████████████████████████████████████| 682/682 [17:12<00:00,  1.51s/it]\n",
      "100%|████████████████████████████████████████████████████████████████████████████████| 171/171 [01:50<00:00,  1.54it/s]\n"
     ]
    },
    {
     "name": "stdout",
     "output_type": "stream",
     "text": [
      "\n",
      "###########19#############\n",
      "\n",
      "train loss : 0.5914477636038034\t val loss: 16.84025349533349\n",
      "train bleu score : 0.45781320244861934 \t val bleu score : 1.7272810303547737e-05\n",
      "expected translation : \t Dans cette histoire, un vieil homme entreprend de demander à un roi indien de creuser un puits dans son village lorsque leur eau sera à sec.\n",
      "predicted trainslation : \t['Dans cette femme . <eos>']\n",
      "bleu_score : 0.004742017726198676\n",
      "\n",
      "-----------------------------------\n",
      "\n"
     ]
    },
    {
     "name": "stderr",
     "output_type": "stream",
     "text": [
      "100%|████████████████████████████████████████████████████████████████████████████████| 682/682 [18:12<00:00,  1.60s/it]\n",
      "100%|████████████████████████████████████████████████████████████████████████████████| 171/171 [01:56<00:00,  1.47it/s]\n"
     ]
    },
    {
     "name": "stdout",
     "output_type": "stream",
     "text": [
      "\n",
      "###########20#############\n",
      "\n",
      "train loss : 0.5808584739036224\t val loss: 17.75728784527695\n",
      "train bleu score : 0.45873210463093467 \t val bleu score : 1.923833210255653e-05\n",
      "expected translation : \t Dans cette histoire, un vieil homme entreprend de demander à un roi indien de creuser un puits dans son village lorsque leur eau sera à sec.\n",
      "predicted trainslation : \t['Dans cette histoire . <eos>']\n",
      "bleu_score : 0.004742017726198676\n",
      "\n",
      "-----------------------------------\n",
      "\n"
     ]
    },
    {
     "name": "stderr",
     "output_type": "stream",
     "text": [
      " 64%|███████████████████████████████████████████████████▏                            | 436/682 [10:09<06:37,  1.62s/it]"
     ]
    }
   ],
   "source": [
    "trainer.train(train_loader,val_loader,\"results/attention\")"
   ]
  }
 ],
 "metadata": {
  "kernelspec": {
   "display_name": "Python 3 (ipykernel)",
   "language": "python",
   "name": "python3"
  },
  "language_info": {
   "codemirror_mode": {
    "name": "ipython",
    "version": 3
   },
   "file_extension": ".py",
   "mimetype": "text/x-python",
   "name": "python",
   "nbconvert_exporter": "python",
   "pygments_lexer": "ipython3",
   "version": "3.9.16"
  },
  "widgets": {
   "application/vnd.jupyter.widget-state+json": {
    "state": {},
    "version_major": 2,
    "version_minor": 0
   }
  }
 },
 "nbformat": 4,
 "nbformat_minor": 4
}
